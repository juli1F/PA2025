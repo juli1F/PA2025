{
  "nbformat": 4,
  "nbformat_minor": 0,
  "metadata": {
    "colab": {
      "provenance": [],
      "authorship_tag": "ABX9TyPpGeWXlcisUFdG5S4qSj1p",
      "include_colab_link": true
    },
    "kernelspec": {
      "name": "python3",
      "display_name": "Python 3"
    },
    "language_info": {
      "name": "python"
    }
  },
  "cells": [
    {
      "cell_type": "markdown",
      "metadata": {
        "id": "view-in-github",
        "colab_type": "text"
      },
      "source": [
        "<a href=\"https://colab.research.google.com/github/juli1F/PA2025/blob/main/Condicionais.ipynb\" target=\"_parent\"><img src=\"https://colab.research.google.com/assets/colab-badge.svg\" alt=\"Open In Colab\"/></a>"
      ]
    },
    {
      "cell_type": "markdown",
      "source": [
        "#tipos de condicionais\n",
        "Condicionais simples: Possuem apenas duas possibilidades(true or False)"
      ],
      "metadata": {
        "id": "JlvTodZTDCKk"
      }
    },
    {
      "cell_type": "code",
      "source": [
        "nota1= float(input(\"Digite a primeira nota:\"))\n",
        "nota2= float(input(\"Digite a segunda nota: \"))\n",
        "nota3= float(input(\"Digite a terceira nota: \"))\n",
        "\n",
        "Média= (nota1+nota2+nota3)/3\n",
        "print(Média)\n",
        "\n",
        "if(Média>=7):\n",
        " print(\"Voce foi aprovado: \")\n",
        "else:\n",
        " print(\"Voce foi reprovado: \")"
      ],
      "metadata": {
        "colab": {
          "base_uri": "https://localhost:8080/"
        },
        "id": "tV5v3O0mDTLX",
        "outputId": "73196b45-582f-42ef-e6e1-dc68bbbadf4f"
      },
      "execution_count": 22,
      "outputs": [
        {
          "output_type": "stream",
          "name": "stdout",
          "text": [
            "Digite a primeira nota:2\n",
            "Digite a segunda nota: 5\n",
            "Digite a terceira nota: 3\n",
            "3.3333333333333335\n",
            "Voce foi reprovado \n"
          ]
        }
      ]
    },
    {
      "cell_type": "code",
      "source": [],
      "metadata": {
        "id": "YEmQwAMePLOy"
      },
      "execution_count": null,
      "outputs": []
    },
    {
      "cell_type": "code",
      "source": [
        "#primeira nota\n",
        "nota= float(input(\"Digite a primeira nota: \"))\n",
        "if (nota>=0 and nota<=10):\n",
        " print(\"Nota1 computada\")\n",
        " nota1=nota\n",
        "\n",
        "else:\n",
        "  print(\"Essa nota não foi registrada pois não estava entre 0 e 10!\")\n",
        "  print(\"Execute novamente o programa!\")\n",
        "\n",
        "\n",
        "  #segunda nota\n",
        "nota= float(input(\"Digite a segunda nota: \"))\n",
        "if (nota>=0 and nota<=10):\n",
        " print(\"Nota2 computada\")\n",
        " nota2=nota\n",
        "\n",
        "else:\n",
        "  print(\"Essa nota não foi registrada pois não estava entre 0 e 10!\")\n",
        "  print(\"Execute novamente o programa!\")\n",
        "\n",
        " #terceira nota\n",
        "nota= float(input(\"Digite a terceira nota: \"))\n",
        "if (nota>=0 and nota<=10):\n",
        " print(\"Nota3 computada\")\n",
        " nota3=nota\n",
        "\n",
        "else:\n",
        "  print(\"Essa nota não foi registrada pois não estava entre 0 e 10!\")\n",
        "  print(\"Execute novamente o programa!\")\n",
        "  Média=((nota1+nota2+nota3)/3)\n",
        "  print(Média)"
      ],
      "metadata": {
        "colab": {
          "base_uri": "https://localhost:8080/"
        },
        "id": "mlpOkMAzJbxJ",
        "outputId": "93817ada-8777-4a10-dd1e-c8b46af7300f"
      },
      "execution_count": 21,
      "outputs": [
        {
          "output_type": "stream",
          "name": "stdout",
          "text": [
            "Digite a primeira nota: -2\n",
            "Essa nota não foi registrada pois não estava entre 0 e 10!\n",
            "Execute novamente o programa!\n",
            "Digite a segunda nota: 4\n",
            "Nota2 computada\n",
            "Digite a terceira nota: 10\n",
            "Nota3 computada\n"
          ]
        }
      ]
    },
    {
      "cell_type": "markdown",
      "source": [
        "#Condicional Composto\n",
        "##Possui mais de duas possibilidades de decisão"
      ],
      "metadata": {
        "id": "R6Ew0zGoOO2E"
      }
    },
    {
      "cell_type": "code",
      "source": [
        "#primeira nota\n",
        "nota= float(input(\"Digite a primeira nota: \"))\n",
        "if (nota>=0 and nota<=10):\n",
        " print(\"Nota1 computada\")\n",
        " nota1=nota\n",
        "\n",
        "else:\n",
        "  print(\"Essa nota não foi registrada pois não estava entre 0 e 10!\")\n",
        "  print(\"Execute novamente o programa!\")\n",
        "\n",
        "\n",
        "  #segunda nota\n",
        "nota= float(input(\"Digite a segunda nota: \"))\n",
        "if (nota>=0 and nota<=10):\n",
        " print(\"Nota2 computada\")\n",
        " nota2=nota\n",
        "\n",
        "else:\n",
        "  print(\"Essa nota não foi registrada pois não estava entre 0 e 10!\")\n",
        "  print(\"Execute novamente o programa!\")\n",
        "\n",
        " #terceira nota\n",
        "nota= float(input(\"Digite a terceira nota: \"))\n",
        "if (nota>=0 and nota<=10):\n",
        " print(\"Nota3 computada\")\n",
        " nota3=nota\n",
        "\n",
        "else:\n",
        "  print(\"Essa nota não foi registrada pois não estava entre 0 e 10!\")\n",
        "  print(\"Execute novamente o programa!\")\n",
        "  Média=((nota1+nota2+nota3)/3)\n",
        "  print(Média)\n",
        "\n",
        "if (Média<5):\n",
        " print(\"Sua menção final é I: \")\n",
        "elif (Média>=5) and (Média<6.5):\n",
        " print(\"A sua menção final é R: \")\n",
        "elif (Média>=6.5) and (nota<=8.5):\n",
        "  print(\"Sua menção final é B: \")\n",
        "else:\n",
        "  print(\"Sua menção é MB:\")"
      ],
      "metadata": {
        "colab": {
          "base_uri": "https://localhost:8080/"
        },
        "id": "HEe7HVy1K_Z_",
        "outputId": "2d771c5a-0aaf-435e-c27a-3664347341b8"
      },
      "execution_count": 46,
      "outputs": [
        {
          "output_type": "stream",
          "name": "stdout",
          "text": [
            "Digite a primeira nota: 10\n",
            "Nota1 computada\n",
            "Digite a segunda nota: 2\n",
            "Nota2 computada\n",
            "Digite a terceira nota: 3\n",
            "Nota3 computada\n",
            "Sua menção final é I: \n"
          ]
        }
      ]
    },
    {
      "cell_type": "markdown",
      "source": [
        "#Condicional alinhado: é quando o segundo IF é só executado se o primeiro for True"
      ],
      "metadata": {
        "id": "m165KE_3XBh6"
      }
    },
    {
      "cell_type": "code",
      "source": [
        "usuariocerto= \"Cintia\"\n",
        "senhacerta= \"123456\"\n",
        "\n",
        "Usuário= input(\"Digite seu usuário: \")\n",
        "senha=input(\"Digite seu senha: \")\n",
        "\n",
        "if(usuario ==usuariocerto):\n",
        "  if(senha==senhacerta):\n",
        "   print(\"Usuario logado!\")\n",
        "\n",
        "  else:\n",
        "   print(\"Senha inválida!\")\n",
        "else:\n",
        "   print(\"Usuario inválido!\")\n"
      ],
      "metadata": {
        "colab": {
          "base_uri": "https://localhost:8080/"
        },
        "id": "-MgGRw3dOqJ_",
        "outputId": "6da975e7-40c2-41e3-b125-00d1df4dbbb0"
      },
      "execution_count": 45,
      "outputs": [
        {
          "output_type": "stream",
          "name": "stdout",
          "text": [
            "Digite seu usuário: Cintia\n",
            "Digite seu senha: 12345\n",
            "Senha inválida!\n"
          ]
        }
      ]
    },
    {
      "cell_type": "markdown",
      "source": [
        "#Lista de exercícios"
      ],
      "metadata": {
        "id": "JW0e3BpwZc06"
      }
    },
    {
      "cell_type": "markdown",
      "source": [
        "#1) Faça um programa que solicite ao usuário três valores (lados de um triangulo), verifique se é um triangulo e informe se ele é isóceles, equilatero ou escaleno."
      ],
      "metadata": {
        "id": "WWfsEn-SaoVH"
      }
    },
    {
      "cell_type": "code",
      "source": [
        "l1= int(input(\"Digite o valor do primeiro lado: \"))\n",
        "l2= int(input(\"Digite o valor do segundo lado: \"))\n",
        "l3= int(input(\"Digite o valor do terceiro lado: \"))\n",
        "\n",
        "forma_triangulo= (l1 + l2 > l3) and (l1 + l3> l2) and (l3 + l2 > l1)\n",
        "\n",
        "equilatero= forma_triangulo and (l1 == l2 == l3)\n",
        "escaleno= forma_triangulo and (l1!=l2!=l3)\n",
        "isosceles= forma_triangulo and (l1==l2) and (l1!=l3)\n",
        "\n",
        "print(f\"forma um triangulo?\", {forma_triangulo})\n",
        "print(f\"É escaleno?\", {escaleno})\n",
        "print(f\"É isosceles?\", {isosceles})\n",
        "print(f\"É equilátero?\", {equilatero})\n",
        "\n",
        "\n",
        "\n",
        "\n"
      ],
      "metadata": {
        "colab": {
          "base_uri": "https://localhost:8080/",
          "height": 263
        },
        "id": "vFgtEsRnZh2I",
        "outputId": "93ae980b-4518-4263-f1a3-7e0d7a6fc633"
      },
      "execution_count": 50,
      "outputs": [
        {
          "name": "stdout",
          "output_type": "stream",
          "text": [
            "Digite o valor do primeiro lado: 12\n",
            "Digite o valor do segundo lado: 12\n",
            "Digite o valor do terceiro lado: 12\n"
          ]
        },
        {
          "output_type": "error",
          "ename": "NameError",
          "evalue": "name 'equilatero' is not defined",
          "traceback": [
            "\u001b[0;31m---------------------------------------------------------------------------\u001b[0m",
            "\u001b[0;31mNameError\u001b[0m                                 Traceback (most recent call last)",
            "\u001b[0;32m<ipython-input-50-e50bf517fd10>\u001b[0m in \u001b[0;36m<cell line: 0>\u001b[0;34m()\u001b[0m\n\u001b[1;32m      6\u001b[0m \u001b[0;32mif\u001b[0m \u001b[0;34m(\u001b[0m\u001b[0;34m\"forma um triangulo?\"\u001b[0m\u001b[0;34m,\u001b[0m \u001b[0;34m{\u001b[0m\u001b[0mforma_triangulo\u001b[0m\u001b[0;34m}\u001b[0m\u001b[0;34m)\u001b[0m\u001b[0;34m:\u001b[0m\u001b[0;34m\u001b[0m\u001b[0;34m\u001b[0m\u001b[0m\n\u001b[1;32m      7\u001b[0m \u001b[0;34m\u001b[0m\u001b[0m\n\u001b[0;32m----> 8\u001b[0;31m  \u001b[0;32mif\u001b[0m \u001b[0;34m(\u001b[0m\u001b[0mequilatero\u001b[0m\u001b[0;34m==\u001b[0m \u001b[0mforma_triangulo\u001b[0m \u001b[0;32mand\u001b[0m \u001b[0;34m(\u001b[0m\u001b[0ml1\u001b[0m \u001b[0;34m==\u001b[0m \u001b[0ml2\u001b[0m \u001b[0;34m==\u001b[0m \u001b[0ml3\u001b[0m\u001b[0;34m)\u001b[0m\u001b[0;34m)\u001b[0m\u001b[0;34m:\u001b[0m\u001b[0;34m\u001b[0m\u001b[0;34m\u001b[0m\u001b[0m\n\u001b[0m\u001b[1;32m      9\u001b[0m   \u001b[0mprint\u001b[0m\u001b[0;34m(\u001b[0m\u001b[0;34mf\"É equilátero?\"\u001b[0m\u001b[0;34m,\u001b[0m \u001b[0;34m{\u001b[0m\u001b[0mequilatero\u001b[0m\u001b[0;34m}\u001b[0m\u001b[0;34m)\u001b[0m\u001b[0;34m\u001b[0m\u001b[0;34m\u001b[0m\u001b[0m\n\u001b[1;32m     10\u001b[0m \u001b[0;34m\u001b[0m\u001b[0m\n",
            "\u001b[0;31mNameError\u001b[0m: name 'equilatero' is not defined"
          ]
        }
      ]
    }
  ]
}