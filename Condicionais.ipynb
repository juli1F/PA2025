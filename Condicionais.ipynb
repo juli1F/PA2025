{
  "nbformat": 4,
  "nbformat_minor": 0,
  "metadata": {
    "colab": {
      "provenance": [],
      "authorship_tag": "ABX9TyM1A7xWipePZm9CIsR/mg1D",
      "include_colab_link": true
    },
    "kernelspec": {
      "name": "python3",
      "display_name": "Python 3"
    },
    "language_info": {
      "name": "python"
    }
  },
  "cells": [
    {
      "cell_type": "markdown",
      "metadata": {
        "id": "view-in-github",
        "colab_type": "text"
      },
      "source": [
        "<a href=\"https://colab.research.google.com/github/juli1F/PA2025/blob/main/Condicionais.ipynb\" target=\"_parent\"><img src=\"https://colab.research.google.com/assets/colab-badge.svg\" alt=\"Open In Colab\"/></a>"
      ]
    },
    {
      "cell_type": "markdown",
      "source": [
        "#tipos de condicionais\n",
        "Condicionais simples: Possuem apenas duas possibilidades(true or False)"
      ],
      "metadata": {
        "id": "JlvTodZTDCKk"
      }
    },
    {
      "cell_type": "code",
      "source": [
        "nota1= float(input(\"Digite a primeira nota:\"))\n",
        "nota2= float(input(\"Digite a segunda nota: \"))\n",
        "nota3= float(input(\"Digite a terceira nota: \"))\n",
        "\n",
        "Média= (nota1+nota2+nota3)/3\n",
        "print(Média)\n",
        "\n",
        "if(Média>=7):\n",
        " print(\"Voce foi aprovado: \")\n",
        "else:\n",
        " print(\"Voce foi reprovado: \")"
      ],
      "metadata": {
        "colab": {
          "base_uri": "https://localhost:8080/"
        },
        "id": "tV5v3O0mDTLX",
        "outputId": "73196b45-582f-42ef-e6e1-dc68bbbadf4f"
      },
      "execution_count": null,
      "outputs": [
        {
          "output_type": "stream",
          "name": "stdout",
          "text": [
            "Digite a primeira nota:2\n",
            "Digite a segunda nota: 5\n",
            "Digite a terceira nota: 3\n",
            "3.3333333333333335\n",
            "Voce foi reprovado \n"
          ]
        }
      ]
    },
    {
      "cell_type": "code",
      "source": [],
      "metadata": {
        "id": "YEmQwAMePLOy"
      },
      "execution_count": null,
      "outputs": []
    },
    {
      "cell_type": "code",
      "source": [
        "#primeira nota\n",
        "nota= float(input(\"Digite a primeira nota: \"))\n",
        "if (nota>=0 and nota<=10):\n",
        " print(\"Nota1 computada\")\n",
        " nota1=nota\n",
        "\n",
        "else:\n",
        "  print(\"Essa nota não foi registrada pois não estava entre 0 e 10!\")\n",
        "  print(\"Execute novamente o programa!\")\n",
        "\n",
        "\n",
        "  #segunda nota\n",
        "nota= float(input(\"Digite a segunda nota: \"))\n",
        "if (nota>=0 and nota<=10):\n",
        " print(\"Nota2 computada\")\n",
        " nota2=nota\n",
        "\n",
        "else:\n",
        "  print(\"Essa nota não foi registrada pois não estava entre 0 e 10!\")\n",
        "  print(\"Execute novamente o programa!\")\n",
        "\n",
        " #terceira nota\n",
        "nota= float(input(\"Digite a terceira nota: \"))\n",
        "if (nota>=0 and nota<=10):\n",
        " print(\"Nota3 computada\")\n",
        " nota3=nota\n",
        "\n",
        "else:\n",
        "  print(\"Essa nota não foi registrada pois não estava entre 0 e 10!\")\n",
        "  print(\"Execute novamente o programa!\")\n",
        "  Média=((nota1+nota2+nota3)/3)\n",
        "  print(Média)"
      ],
      "metadata": {
        "colab": {
          "base_uri": "https://localhost:8080/"
        },
        "id": "mlpOkMAzJbxJ",
        "outputId": "93817ada-8777-4a10-dd1e-c8b46af7300f"
      },
      "execution_count": null,
      "outputs": [
        {
          "output_type": "stream",
          "name": "stdout",
          "text": [
            "Digite a primeira nota: -2\n",
            "Essa nota não foi registrada pois não estava entre 0 e 10!\n",
            "Execute novamente o programa!\n",
            "Digite a segunda nota: 4\n",
            "Nota2 computada\n",
            "Digite a terceira nota: 10\n",
            "Nota3 computada\n"
          ]
        }
      ]
    },
    {
      "cell_type": "markdown",
      "source": [
        "#Condicional Composto\n",
        "##Possui mais de duas possibilidades de decisão"
      ],
      "metadata": {
        "id": "R6Ew0zGoOO2E"
      }
    },
    {
      "cell_type": "code",
      "source": [
        "#primeira nota\n",
        "nota= float(input(\"Digite a primeira nota: \"))\n",
        "if (nota>=0 and nota<=10):\n",
        " print(\"Nota1 computada\")\n",
        " nota1=nota\n",
        "\n",
        "else:\n",
        "  print(\"Essa nota não foi registrada pois não estava entre 0 e 10!\")\n",
        "  print(\"Execute novamente o programa!\")\n",
        "\n",
        "\n",
        "  #segunda nota\n",
        "nota= float(input(\"Digite a segunda nota: \"))\n",
        "if (nota>=0 and nota<=10):\n",
        " print(\"Nota2 computada\")\n",
        " nota2=nota\n",
        "\n",
        "else:\n",
        "  print(\"Essa nota não foi registrada pois não estava entre 0 e 10!\")\n",
        "  print(\"Execute novamente o programa!\")\n",
        "\n",
        " #terceira nota\n",
        "nota= float(input(\"Digite a terceira nota: \"))\n",
        "if (nota>=0 and nota<=10):\n",
        " print(\"Nota3 computada\")\n",
        " nota3=nota\n",
        "\n",
        "else:\n",
        "  print(\"Essa nota não foi registrada pois não estava entre 0 e 10!\")\n",
        "  print(\"Execute novamente o programa!\")\n",
        "  Média=((nota1+nota2+nota3)/3)\n",
        "  print(Média)\n",
        "\n",
        "if (Média<5):\n",
        " print(\"Sua menção final é I: \")\n",
        "elif (Média>=5) and (Média<6.5):\n",
        " print(\"A sua menção final é R: \")\n",
        "elif (Média>=6.5) and (nota<=8.5):\n",
        "  print(\"Sua menção final é B: \")\n",
        "else:\n",
        "  print(\"Sua menção é MB:\")"
      ],
      "metadata": {
        "colab": {
          "base_uri": "https://localhost:8080/"
        },
        "id": "HEe7HVy1K_Z_",
        "outputId": "2d771c5a-0aaf-435e-c27a-3664347341b8"
      },
      "execution_count": null,
      "outputs": [
        {
          "output_type": "stream",
          "name": "stdout",
          "text": [
            "Digite a primeira nota: 10\n",
            "Nota1 computada\n",
            "Digite a segunda nota: 2\n",
            "Nota2 computada\n",
            "Digite a terceira nota: 3\n",
            "Nota3 computada\n",
            "Sua menção final é I: \n"
          ]
        }
      ]
    },
    {
      "cell_type": "markdown",
      "source": [
        "#Condicional alinhado: é quando o segundo IF é só executado se o primeiro for True"
      ],
      "metadata": {
        "id": "m165KE_3XBh6"
      }
    },
    {
      "cell_type": "code",
      "source": [
        "usuariocerto= \"Cintia\"\n",
        "senhacerta= \"123456\"\n",
        "\n",
        "Usuário= input(\"Digite seu usuário: \")\n",
        "senha=input(\"Digite seu senha: \")\n",
        "\n",
        "if(usuario ==usuariocerto):\n",
        "  if(senha==senhacerta):\n",
        "   print(\"Usuario logado!\")\n",
        "\n",
        "  else:\n",
        "   print(\"Senha inválida!\")\n",
        "else:\n",
        "   print(\"Usuario inválido!\")\n"
      ],
      "metadata": {
        "colab": {
          "base_uri": "https://localhost:8080/"
        },
        "id": "-MgGRw3dOqJ_",
        "outputId": "6da975e7-40c2-41e3-b125-00d1df4dbbb0"
      },
      "execution_count": null,
      "outputs": [
        {
          "output_type": "stream",
          "name": "stdout",
          "text": [
            "Digite seu usuário: Cintia\n",
            "Digite seu senha: 12345\n",
            "Senha inválida!\n"
          ]
        }
      ]
    },
    {
      "cell_type": "markdown",
      "source": [
        "#Lista de exercícios"
      ],
      "metadata": {
        "id": "JW0e3BpwZc06"
      }
    },
    {
      "cell_type": "markdown",
      "source": [
        "#1) Faça um programa que solicite ao usuário três valores (lados de um triangulo), verifique se é um triangulo e informe se ele é isóceles, equilatero ou escaleno."
      ],
      "metadata": {
        "id": "WWfsEn-SaoVH"
      }
    },
    {
      "cell_type": "code",
      "source": [
        "l1= int(input(\"Digite o valor do primeiro lado: \"))\n",
        "l2= int(input(\"Digite o valor do segundo lado: \"))\n",
        "l3= int(input(\"Digite o valor do terceiro lado: \"))\n",
        "\n",
        "forma_triangulo= (l1 + l2 > l3) and (l1 + l3> l2) and (l3 + l2 > l1)\n",
        "\n",
        "equilátero= forma_triangulo and (l1 == l2 == l3)\n",
        "escaleno= forma_triangulo and (l1!=l2!=l3)\n",
        "isosceles= forma_triangulo and (l1==l2) and (l1!=l3)\n",
        "\n",
        "print(f\"forma um triangulo?\", {forma_triangulo})\n",
        "print(f\"É escaleno?\", {escaleno})\n",
        "print(f\"É isosceles?\", {isosceles})\n",
        "print(f\"É equilátero?\", {equilátero})\n"
      ],
      "metadata": {
        "colab": {
          "base_uri": "https://localhost:8080/"
        },
        "id": "vFgtEsRnZh2I",
        "outputId": "6a1f0f10-2946-4a0f-8150-2c2e5dca9372"
      },
      "execution_count": 2,
      "outputs": [
        {
          "output_type": "stream",
          "name": "stdout",
          "text": [
            "Digite o valor do primeiro lado: 10\n",
            "Digite o valor do segundo lado: 10\n",
            "Digite o valor do terceiro lado: 10\n",
            "forma um triangulo? {True}\n",
            "É escaleno? {False}\n",
            "É isosceles? {False}\n",
            "É equilátero? {True}\n"
          ]
        }
      ]
    },
    {
      "cell_type": "markdown",
      "source": [
        "##2)Peça para o usuário digitar um valor informe se ele é par ou impar"
      ],
      "metadata": {
        "id": "iH30Qb04bjsA"
      }
    },
    {
      "cell_type": "code",
      "source": [
        "valor= (int(input(\"Digite o valor: \")))\n",
        "resto= valor%2\n",
        "\n",
        "if (resto==0):\n",
        " print(\"O número é par\")\n",
        "\n",
        "else:\n",
        " print(\"O número é impar\")\n",
        ""
      ],
      "metadata": {
        "id": "uirSfiWUb2Wv",
        "outputId": "60f1ced7-2b68-4abe-cd53-cfe5cd63ad3e",
        "colab": {
          "base_uri": "https://localhost:8080/"
        }
      },
      "execution_count": 5,
      "outputs": [
        {
          "output_type": "stream",
          "name": "stdout",
          "text": [
            "Digite o valor: 16\n",
            "O número é par\n"
          ]
        }
      ]
    },
    {
      "cell_type": "markdown",
      "source": [
        "##3)Faça um programa que solicite peso e altura, informe seu IMC. Ao final informe se ele está, abaixo do peso,peso ideal ou acima do peso. fórmula do IMC: (peso/altura^2)\n"
      ],
      "metadata": {
        "id": "gfrNfFBvc4PZ"
      }
    },
    {
      "cell_type": "code",
      "source": [
        "peso= float(input(\"Digite o peso: \"))\n",
        "altura= float(input(\"Digite o valor da altura: \"))\n",
        "IMC= (peso/altura**2)\n",
        "\n",
        "if(IMC <18.5):\n",
        "  print(\"Está abaixo do peso\")\n",
        "elif(IMC> 18.5 and IMC<24.9):\n",
        "  print(\"Está no peso normal\")\n",
        "elif(IMC> 25 and IMC<29.9):\n",
        "  print(\"Está no sobrepeso\")\n",
        "elif(IMC>30 and IMC<34.9):\n",
        "  print(\"Está na obesidade 1\")\n",
        "elif(IMC>35 and IMC<39.9):\n",
        "  print(\"Está na obesidade 2\")\n",
        "else:\n",
        "  print(\"Está na obesidade 3\")"
      ],
      "metadata": {
        "id": "FaG4oG2tdDuq",
        "outputId": "b1c6f867-46fa-4076-c99c-570511dace63",
        "colab": {
          "base_uri": "https://localhost:8080/"
        }
      },
      "execution_count": 8,
      "outputs": [
        {
          "output_type": "stream",
          "name": "stdout",
          "text": [
            "Digite o peso: 75\n",
            "Digite o valor da altura: 1.52\n",
            "Está na obesidade 1\n"
          ]
        }
      ]
    },
    {
      "cell_type": "markdown",
      "source": [
        "##4)Crie um programa que simule um caixa eletrônico. O programa deve:\n",
        "\n",
        "Solicitar ao usuário nome de usuário e senha para acessar a conta bancária (use valores fictícios para usuário e senha, por exemplo, \"cliente\" e \"1234\").\n",
        "\n",
        "Se o usuário ou a senha estiver incorreto, o programa deve bloquear o acesso e exibir a mensagem: \"Usuário ou senha incorretos. Tente novamente.\"\n",
        "\n"
      ],
      "metadata": {
        "id": "ZIou4bxLe1OZ"
      }
    },
    {
      "cell_type": "code",
      "source": [
        "usuariocerto= \"Cintia\"\n",
        "senhacerta= \"123456\"\n",
        "\n",
        "Usuário= input(\"Digite seu usuário: \")\n",
        "senha=input(\"Digite seu senha: \")\n",
        "\n",
        "if(usuario ==usuariocerto):\n",
        "  if(senha==senhacerta):\n",
        "   print(\"Usuario logado!\")\n",
        "\n",
        "  else:\n",
        "   print(\"Senha inválida!\")\n",
        "else:\n",
        "   print(\"Usuario inválido!\")\n"
      ],
      "metadata": {
        "id": "tM9x-T8Ee-Kb"
      },
      "execution_count": null,
      "outputs": []
    },
    {
      "cell_type": "markdown",
      "source": [
        "##5)Exercício – Simulador de Saque e Depósito com Limite\n",
        "\n",
        "Sequência do exercício anterior\n",
        "\n",
        "Deverá ter os valores fixos de\n",
        "\n",
        "Exemplo:\n",
        "\n",
        "limite = 3000\n",
        "\n",
        "saldo = - 50.00\n",
        "\n",
        "Se o login for bem-sucedido, o programa deve exibir as opções de escolha para o usuário de saque, depósito ou ver saldo, e o usuário poderá escolher qual operação deseja realizar.\n",
        "\n",
        "Exemplo:\n",
        "\n",
        "Digite 1 para sacar\n",
        "\n",
        "Digite 2 para depositar\n",
        "\n",
        "Digite 3 para ver o saldo\n",
        "\n",
        "Porém ao final de cada operação de saque ou depósito, mostre como ficou o saldo do cliente no banco. Sempre mostranto saldo e o restante do limite do banco.\n",
        "\n",
        "Caso o usuário escolha sacar:\n",
        "\n",
        "Solicitar o valor que deseja sacar.\n",
        "\n",
        "Verificar se o saque pode ser realizado, considerando o saldo mais o limite disponível.\n",
        "\n",
        "Informar se o saque foi autorizado ou negado.\n",
        "\n",
        "Se autorizado, informar o saldo final e se ele é positivo ou negativo.\n",
        "\n",
        "Não esqueça de atualizar o saldo\n",
        "\n",
        "Informar qual o valor negativo que ele está caso esteja usando o limite do Banco.\n",
        "\n",
        "Caso o usuário escolha depositar:\n",
        "\n",
        "Solicitar o valor do depósito.\n",
        "\n",
        "Atualizar o saldo e informar o novo saldo final.\n",
        "\n"
      ],
      "metadata": {
        "id": "QzwFFbEefKE8"
      }
    },
    {
      "cell_type": "code",
      "source": [],
      "metadata": {
        "id": "n4mCOkZ3fPzP"
      },
      "execution_count": null,
      "outputs": []
    },
    {
      "cell_type": "markdown",
      "source": [
        "##6)Faça um programa que solicite altura e idade do usuário, informe se ele pode ou nao competir.\n",
        "\n",
        "Regras: Para competir no campeonato de vôlei o usuário de ter pelo menos 1.75 de altura e 18 anos."
      ],
      "metadata": {
        "id": "oo1oFUsBfQD8"
      }
    },
    {
      "cell_type": "code",
      "source": [
        "idade= float(input(\"Digite a idade: \"))\n",
        "altura= float(input(\"Digite a altura: \"))\n",
        "\n",
        "if(idade>=18 and altura>=1.75):\n",
        " print(\"Poderá participar\")\n",
        "else:\n",
        "  print(\"Não poderá participar\")"
      ],
      "metadata": {
        "id": "R-aqiA4kfUF2",
        "outputId": "fdc2a777-3da0-40f2-aa5e-5580ee562caf",
        "colab": {
          "base_uri": "https://localhost:8080/"
        }
      },
      "execution_count": 9,
      "outputs": [
        {
          "output_type": "stream",
          "name": "stdout",
          "text": [
            "Digite a idade: 17\n",
            "Digite a altura: 1.80\n",
            "Não poderá participar\n"
          ]
        }
      ]
    },
    {
      "cell_type": "markdown",
      "source": [
        "##7)Faça um programa que solicite o peso do lutador de Boxe. Informe em que categoria de boxe o usuário está, segundo os critérios abaixos:"
      ],
      "metadata": {
        "id": "qpxmsXPCh5f1"
      }
    },
    {
      "cell_type": "code",
      "source": [
        "peso= float(input(\"Digite o peso: \"))\n",
        "\n",
        "if(peso>90.72):\n",
        "  print(\"Está na categoria pesado\")\n",
        "elif(peso>79.39):\n",
        "  print(\"Está na categoria cruzador\")\n",
        "elif(peso>73.03):\n",
        "  print(\"Está na categoria Super Médio\")\n",
        "elif(peso>69.85):\n",
        "  print(\"Está na categoria Médio\")\n",
        "elif(peso>66.68):\n",
        "  print(\"Está na categoria Super Meio-Médio\")\n",
        "elif(peso>63.5):\n",
        "  print(\"Está na categoria Méio-Médio\")\n",
        "elif(peso>59):\n",
        "  print(\"Está na categoria Leve\")\n",
        "elif(peso>57.15):\n",
        "  print(\"Está na categoria Super Pena\")\n",
        "elif(peso>55.34):\n",
        "  print(\"Está na categoria Pena\")\n",
        "elif(peso>53.52):\n",
        "  print(\"Está na categoria Super Galo\")\n",
        "elif(peso>51.71):\n",
        "  print(\"Está na categoria Galo\")\n",
        "elif(peso>49.89):\n",
        "  print(\"Está na categoria Super Mosca\")\n",
        "elif(peso>48.99):\n",
        "  print(\"Está na categoria Mosca\")\n",
        "elif(peso>47.63):\n",
        "  print(\"Está na categoria Mosca Ligeiro\")\n",
        "elif(peso>46.72):\n",
        "  print(\"Está na categoria Palha\")\n",
        "elif(peso>46.27):\n",
        "  print(\"Está na categoria Palha Ligeiro\")\n",
        "else:\n",
        "  print(\"Está na categoria ilimitado\")\n",
        ""
      ],
      "metadata": {
        "id": "-VAlSknMiCUl",
        "outputId": "d9f34580-2de6-4ac9-9da8-4262f73cf09f",
        "colab": {
          "base_uri": "https://localhost:8080/"
        }
      },
      "execution_count": 10,
      "outputs": [
        {
          "output_type": "stream",
          "name": "stdout",
          "text": [
            "Digite o peso: 55\n",
            "Está na categoria Super Galo\n"
          ]
        }
      ]
    },
    {
      "cell_type": "markdown",
      "source": [
        "##8)Faça um programa que solicite\n",
        "\n",
        "O salário do usuário;\n",
        "\n",
        "Informe quanto esse usuário irá pagar de imposto de Renda seguindo a tabela abaixo:\n",
        "\n"
      ],
      "metadata": {
        "id": "w-ICRwHom063"
      }
    },
    {
      "cell_type": "code",
      "source": [],
      "metadata": {
        "id": "XaZoGBgCm7N5"
      },
      "execution_count": null,
      "outputs": []
    },
    {
      "cell_type": "markdown",
      "source": [
        "##9).Uma empresa dará aumento para seus funcionários, faça um programa que faça esses cálculos, solicite o salário do funcionário e informe o aumento que o mesmo terá, seguindo os seguintes critérios:\n",
        "\n"
      ],
      "metadata": {
        "id": "KYfBpYTIgLEV"
      }
    },
    {
      "cell_type": "code",
      "source": [
        "salário= float(input(\"Digite o salário do funcionário: \"))\n",
        "\n",
        "if(salário<=1500)"
      ],
      "metadata": {
        "id": "onrAgh0OgON2"
      },
      "execution_count": null,
      "outputs": []
    },
    {
      "cell_type": "markdown",
      "source": [
        "##10)Peça o peso do pacote (em kg) e a distância (em km) de sua cidade até o local de entrega.Calcule o frete com base em regras:\n",
        "\n",
        "Até 2kg → R$5 por 100km\n",
        "\n",
        "De 2kg a 5kg → R$8 por 100km\n",
        "\n",
        "Acima de 5kg → R$10 por 100km\n",
        "\n",
        "Exemplo de saída:\n",
        "\n",
        "\"Para um pacote de 3kg viajando 350km, o valor do frete será R$28,00\""
      ],
      "metadata": {
        "id": "S0ET-0yzlyne"
      }
    },
    {
      "cell_type": "code",
      "source": [
        "peso do pacote= float(input(\"Digite o peso do pacote (kg): \"))\n",
        "distancia= float(imput(\"Digite a distancia: \"))\n",
        "\n",
        "if (peso do pacote>=2kg and distancia>=5km )"
      ],
      "metadata": {
        "id": "aCvdWo3Zl5RX"
      },
      "execution_count": null,
      "outputs": []
    }
  ]
}