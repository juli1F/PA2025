{
  "nbformat": 4,
  "nbformat_minor": 0,
  "metadata": {
    "colab": {
      "provenance": [],
      "authorship_tag": "ABX9TyOE2X1Kj54yzssDNT7hI2bH",
      "include_colab_link": true
    },
    "kernelspec": {
      "name": "python3",
      "display_name": "Python 3"
    },
    "language_info": {
      "name": "python"
    }
  },
  "cells": [
    {
      "cell_type": "markdown",
      "metadata": {
        "id": "view-in-github",
        "colab_type": "text"
      },
      "source": [
        "<a href=\"https://colab.research.google.com/github/juli1F/PA2025/blob/main/variaveiseoperadoresaritmetricos/variavieseconstantes.ipynb\" target=\"_parent\"><img src=\"https://colab.research.google.com/assets/colab-badge.svg\" alt=\"Open In Colab\"/></a>"
      ]
    },
    {
      "cell_type": "markdown",
      "source": [
        "#variáveis e constantes"
      ],
      "metadata": {
        "id": "Pcyb3UT5gRDW"
      }
    },
    {
      "cell_type": "code",
      "execution_count": null,
      "metadata": {
        "id": "V7R_iqgWf_v6"
      },
      "outputs": [],
      "source": [
        "idade = 14\n",
        "altura = 1.57\n",
        "nome = \"Juliana Barbosa\"\n",
        "vai = True"
      ]
    },
    {
      "cell_type": "code",
      "source": [
        "nomes = [\"Victoria Nunes\",\"Mariana\",\"Beatriz\"]\n",
        "nomes2 = (\"Victoria Nunes\",\"Mariana\",\"Beatriz\")\n",
        "tudo = {nome:\"Cínta Pinho\",idade:42,altura:1.52,vai:True}"
      ],
      "metadata": {
        "id": "esIIba3biZpb"
      },
      "execution_count": null,
      "outputs": []
    },
    {
      "cell_type": "code",
      "source": [
        "print(nome)\n",
        "print(nomes)\n",
        "print(nomes2)"
      ],
      "metadata": {
        "colab": {
          "base_uri": "https://localhost:8080/"
        },
        "id": "sm-4A0D2jO_k",
        "outputId": "40f47250-5a44-42e3-d231-fedccd434219"
      },
      "execution_count": null,
      "outputs": [
        {
          "output_type": "stream",
          "name": "stdout",
          "text": [
            "Juliana Barbosa\n",
            "['Victoria Nunes', 'Mariana', 'Beatriz']\n",
            "('Victoria Nunes', 'Mariana', 'Beatriz')\n"
          ]
        }
      ]
    },
    {
      "cell_type": "code",
      "source": [],
      "metadata": {
        "id": "F7eXrMUCpM64"
      },
      "execution_count": null,
      "outputs": []
    },
    {
      "cell_type": "code",
      "source": [
        "print(type(idade))\n",
        "print(type(altura))\n",
        "print(type(vai))\n",
        "print(type(nome))\n",
        "print(type(nomes))\n",
        "print(type(nomes2))\n",
        "print(type(tudo))"
      ],
      "metadata": {
        "colab": {
          "base_uri": "https://localhost:8080/"
        },
        "id": "NWSRgmUykQWJ",
        "outputId": "6e47ce7b-9ecb-429d-f270-4375cfe0ccda"
      },
      "execution_count": null,
      "outputs": [
        {
          "output_type": "stream",
          "name": "stdout",
          "text": [
            "<class 'int'>\n",
            "<class 'float'>\n",
            "<class 'bool'>\n",
            "<class 'str'>\n",
            "<class 'list'>\n",
            "<class 'tuple'>\n",
            "<class 'dict'>\n"
          ]
        }
      ]
    },
    {
      "cell_type": "code",
      "source": [
        "print(\"o nome dela é:\", nome, \",sua idade é\", idade, \",ela tem \", altura, \"metros\")"
      ],
      "metadata": {
        "colab": {
          "base_uri": "https://localhost:8080/"
        },
        "id": "1bEdMH3_mvt_",
        "outputId": "11ad7381-9b76-4189-da52-fd116fadd5da"
      },
      "execution_count": null,
      "outputs": [
        {
          "output_type": "stream",
          "name": "stdout",
          "text": [
            "o nome dela é: Juliana Barbosa ,sua idade é 14 ,ela tem  1.57 metros\n"
          ]
        }
      ]
    },
    {
      "cell_type": "code",
      "source": [
        "nome = \"Ana\"\n",
        "idade = 25\n",
        "print(f\"Nome: {nome}, Idade: {idade}\")\n"
      ],
      "metadata": {
        "colab": {
          "base_uri": "https://localhost:8080/"
        },
        "id": "IXEE9C1nr23W",
        "outputId": "d017ff8c-aca9-4ee3-e484-463ebef530a4"
      },
      "execution_count": null,
      "outputs": [
        {
          "output_type": "stream",
          "name": "stdout",
          "text": [
            "Nome: Ana, Idade: 25\n"
          ]
        }
      ]
    },
    {
      "cell_type": "markdown",
      "source": [
        "#Area do circulo"
      ],
      "metadata": {
        "id": "pgt5MVPxvdic"
      }
    },
    {
      "cell_type": "code",
      "source": [
        "PI = 3.14159\n",
        "raio= float(input(\"Digite o valor do raio do círculo: \"))"
      ],
      "metadata": {
        "colab": {
          "base_uri": "https://localhost:8080/"
        },
        "id": "81X09luwvo-t",
        "outputId": "0a680615-e65a-4952-a502-6eb3d4ef90ec"
      },
      "execution_count": null,
      "outputs": [
        {
          "name": "stdout",
          "output_type": "stream",
          "text": [
            "Digite o valor do raio do círculo: 4\n"
          ]
        }
      ]
    },
    {
      "cell_type": "code",
      "source": [
        "areacir= PI * (raio**2)"
      ],
      "metadata": {
        "id": "-itvjFDpwH4Y"
      },
      "execution_count": null,
      "outputs": []
    },
    {
      "cell_type": "code",
      "source": [
        "print(f\"A área do circulo é {areacir}\")"
      ],
      "metadata": {
        "colab": {
          "base_uri": "https://localhost:8080/"
        },
        "id": "JbsTaPNGxP5-",
        "outputId": "01df51c6-9f97-45df-8270-af8aa773b86f"
      },
      "execution_count": null,
      "outputs": [
        {
          "output_type": "stream",
          "name": "stdout",
          "text": [
            "A área do circuo é 50.26544\n"
          ]
        }
      ]
    },
    {
      "cell_type": "markdown",
      "source": [
        "#area do quadrado"
      ],
      "metadata": {
        "id": "GN3DGL26zxlA"
      }
    },
    {
      "cell_type": "code",
      "source": [
        "lado = 4\n",
        "area = float(input(\"Digite o valor do lado do quadrado: \"))"
      ],
      "metadata": {
        "colab": {
          "base_uri": "https://localhost:8080/"
        },
        "id": "39dPv9Fcz19g",
        "outputId": "8fd9cfac-be79-4b5f-aad5-7c57cc4ef1de"
      },
      "execution_count": null,
      "outputs": [
        {
          "name": "stdout",
          "output_type": "stream",
          "text": [
            "Digite o valor do lado do quadrado: 6\n"
          ]
        }
      ]
    },
    {
      "cell_type": "code",
      "source": [
        "areaqua = (lado **2)"
      ],
      "metadata": {
        "id": "gAaPqrG30iaT"
      },
      "execution_count": null,
      "outputs": []
    },
    {
      "cell_type": "code",
      "source": [
        "print(f\"A area do quadrado é {areaqua}\")"
      ],
      "metadata": {
        "colab": {
          "base_uri": "https://localhost:8080/"
        },
        "id": "sWVhc54B1CXF",
        "outputId": "1581f187-04aa-4573-ea37-4cc828c945d2"
      },
      "execution_count": null,
      "outputs": [
        {
          "output_type": "stream",
          "name": "stdout",
          "text": [
            "A area do quadrado é 16\n"
          ]
        }
      ]
    },
    {
      "cell_type": "markdown",
      "source": [
        "#Exercícios\n"
      ],
      "metadata": {
        "id": "-PiQ0xx-pJtw"
      }
    },
    {
      "cell_type": "markdown",
      "source": [
        "## Exercício 1 - Área do Retângulo\n",
        "\n",
        "Crie um programa que calcule a área de um retângulo usando uma constante para representar a base.\n",
        "\n",
        " Fórmula: A = base × altura"
      ],
      "metadata": {
        "id": "-8e9q4oApwK-"
      }
    },
    {
      "cell_type": "code",
      "source": [
        "base = float(input(\"Digite o valor da base\"))\n",
        "altura = float(input(\"Digite o valor da altura\"))"
      ],
      "metadata": {
        "colab": {
          "base_uri": "https://localhost:8080/"
        },
        "id": "R2mHLsKSqwYl",
        "outputId": "db202c7a-1cd4-4dca-bf55-9c681e07663c"
      },
      "execution_count": 10,
      "outputs": [
        {
          "name": "stdout",
          "output_type": "stream",
          "text": [
            "Digite o valor da base5\n",
            "Digite o valor da altura4\n"
          ]
        }
      ]
    },
    {
      "cell_type": "code",
      "source": [
        "areareta  = (base*altura)"
      ],
      "metadata": {
        "id": "rSvo49zJr8of"
      },
      "execution_count": 11,
      "outputs": []
    },
    {
      "cell_type": "code",
      "source": [
        "print(f\"A area do retangulo é {areareta}\")"
      ],
      "metadata": {
        "colab": {
          "base_uri": "https://localhost:8080/"
        },
        "id": "tin8YXIjsfsz",
        "outputId": "0e27dcd0-1ad5-4c5b-e6c5-cf5714f4c664"
      },
      "execution_count": 12,
      "outputs": [
        {
          "output_type": "stream",
          "name": "stdout",
          "text": [
            "A area do retangulo é 20.0\n"
          ]
        }
      ]
    },
    {
      "cell_type": "markdown",
      "source": [
        "##Exercício 2 – Perímetro do Círculo\n",
        "\n",
        "Crie um programa que calcule o perímetro de um círculo usando a constante π.\n",
        "\n",
        " Fórmula: P = 2 × π × r"
      ],
      "metadata": {
        "id": "skzIz65Ds5c5"
      }
    },
    {
      "cell_type": "code",
      "source": [
        "PI = 3.14159\n",
        "raio = float(input(\"Digite o valor do raio do circulo\"))"
      ],
      "metadata": {
        "colab": {
          "base_uri": "https://localhost:8080/"
        },
        "id": "9J_gpHsKtMJi",
        "outputId": "c2911246-bb9b-407a-857a-cfd3f298091f"
      },
      "execution_count": 18,
      "outputs": [
        {
          "name": "stdout",
          "output_type": "stream",
          "text": [
            "Digite o valor do raio do circulo 6 \n"
          ]
        }
      ]
    },
    {
      "cell_type": "code",
      "source": [
        "areacir = PI * (raio**2)"
      ],
      "metadata": {
        "id": "NKojyBbQvhzV"
      },
      "execution_count": 19,
      "outputs": []
    },
    {
      "cell_type": "code",
      "source": [
        "print(f\"A área do Circulo é: {areacir:.2f}\")"
      ],
      "metadata": {
        "colab": {
          "base_uri": "https://localhost:8080/"
        },
        "id": "fh1hzpLyvymW",
        "outputId": "249848c8-f0b1-48f1-ea17-2cda4559136a"
      },
      "execution_count": 22,
      "outputs": [
        {
          "output_type": "stream",
          "name": "stdout",
          "text": [
            "A área do Circulo é: 113.10\n"
          ]
        }
      ]
    },
    {
      "cell_type": "markdown",
      "source": [
        "## Exercício 3 – Conversão de Temperatura\n",
        "\n",
        "Crie um programa que converta uma temperatura de Fahrenheit para Celsius.\n",
        "\n",
        " Fórmula: C = (F - 32) × 5/9"
      ],
      "metadata": {
        "id": "8kBAy5jexmol"
      }
    },
    {
      "cell_type": "code",
      "source": [
        "f = float(input(\"Digite a temperatura do fahrenheit\"))"
      ],
      "metadata": {
        "colab": {
          "base_uri": "https://localhost:8080/"
        },
        "id": "7TJTpNmCxsnT",
        "outputId": "fdea99bb-40fe-4eb1-a4ca-ce6f1b89f3e9"
      },
      "execution_count": 49,
      "outputs": [
        {
          "name": "stdout",
          "output_type": "stream",
          "text": [
            "Digite a temperatura do fahrenheit90\n"
          ]
        }
      ]
    },
    {
      "cell_type": "code",
      "source": [
        "celsius = (f-32)*5/9"
      ],
      "metadata": {
        "id": "6FmUdCR1zRk7"
      },
      "execution_count": 53,
      "outputs": []
    },
    {
      "cell_type": "code",
      "source": [
        "print(f\"A temperatura do fahrenheit é {celsius}\")"
      ],
      "metadata": {
        "colab": {
          "base_uri": "https://localhost:8080/"
        },
        "id": "HOS1wnK62Qkc",
        "outputId": "e0055b5d-eab5-432c-a94b-6c4620a2de35"
      },
      "execution_count": 54,
      "outputs": [
        {
          "output_type": "stream",
          "name": "stdout",
          "text": [
            "A temperatura do fahrenheit é 32.22222222222222\n"
          ]
        }
      ]
    },
    {
      "cell_type": "markdown",
      "source": [
        "##Exercício 4 – Cálculo do IMC\n",
        "\n",
        "Crie um programa que calcule o Índice de Massa Corporal (IMC) de uma pessoa.\n",
        "\n",
        " Fórmula: IMC = peso / altura²"
      ],
      "metadata": {
        "id": "LGWXnbs00oGw"
      }
    },
    {
      "cell_type": "code",
      "source": [
        "peso = float(input(\"Digite o peso\"))\n",
        "altura = float(input(\"Digite a altura\"))"
      ],
      "metadata": {
        "colab": {
          "base_uri": "https://localhost:8080/"
        },
        "id": "LjRd3p5c0s5S",
        "outputId": "ccc557e6-c6ed-4bd0-e70b-f79de889400d"
      },
      "execution_count": 55,
      "outputs": [
        {
          "name": "stdout",
          "output_type": "stream",
          "text": [
            "Digite o peso55\n",
            "Digite a altura1.60\n"
          ]
        }
      ]
    },
    {
      "cell_type": "code",
      "source": [
        "IMC = peso/altura**2"
      ],
      "metadata": {
        "id": "XZFWVF1E2xDK"
      },
      "execution_count": 61,
      "outputs": []
    },
    {
      "cell_type": "code",
      "source": [
        "print(f\"O peso e altura é{IMC}\")"
      ],
      "metadata": {
        "colab": {
          "base_uri": "https://localhost:8080/"
        },
        "id": "lQHh2OFr3bdB",
        "outputId": "a3153c02-d0ab-4ed0-8554-b2ce88990deb"
      },
      "execution_count": 62,
      "outputs": [
        {
          "output_type": "stream",
          "name": "stdout",
          "text": [
            "O peso e altura é21.484374999999996\n"
          ]
        }
      ]
    }
  ]
}