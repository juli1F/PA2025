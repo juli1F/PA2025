{
  "nbformat": 4,
  "nbformat_minor": 0,
  "metadata": {
    "colab": {
      "provenance": [],
      "name": "variavieseconstantes/fluxograma.ipynb",
      "authorship_tag": "ABX9TyMVBqUfJGI4SELT8m3eS5fU",
      "include_colab_link": true
    },
    "kernelspec": {
      "name": "python3",
      "display_name": "Python 3"
    },
    "language_info": {
      "name": "python"
    }
  },
  "cells": [
    {
      "cell_type": "markdown",
      "metadata": {
        "id": "view-in-github",
        "colab_type": "text"
      },
      "source": [
        "<a href=\"https://colab.research.google.com/github/juli1F/PA2025/blob/main/variavieseconstantes/fluxograma.ipynb\" target=\"_parent\"><img src=\"https://colab.research.google.com/assets/colab-badge.svg\" alt=\"Open In Colab\"/></a>"
      ]
    },
    {
      "cell_type": "markdown",
      "source": [
        "#variáveis e constantes"
      ],
      "metadata": {
        "id": "Pcyb3UT5gRDW"
      }
    },
    {
      "cell_type": "code",
      "execution_count": null,
      "metadata": {
        "id": "V7R_iqgWf_v6"
      },
      "outputs": [],
      "source": [
        "idade = 14\n",
        "altura = 1.57\n",
        "nome = \"Juliana Barbosa\"\n",
        "vai = True"
      ]
    },
    {
      "cell_type": "code",
      "source": [
        "nomes = [\"Victoria Nunes\",\"Mariana\",\"Beatriz\"]\n",
        "nomes2 = (\"Victoria Nunes\",\"Mariana\",\"Beatriz\")\n",
        "tudo = {nome:\"Cínta Pinho\",idade:42,altura:1.52,vai:True}"
      ],
      "metadata": {
        "id": "esIIba3biZpb"
      },
      "execution_count": null,
      "outputs": []
    },
    {
      "cell_type": "code",
      "source": [
        "print(nome)\n",
        "print(nomes)\n",
        "print(nomes2)"
      ],
      "metadata": {
        "colab": {
          "base_uri": "https://localhost:8080/"
        },
        "id": "sm-4A0D2jO_k",
        "outputId": "40f47250-5a44-42e3-d231-fedccd434219"
      },
      "execution_count": null,
      "outputs": [
        {
          "output_type": "stream",
          "name": "stdout",
          "text": [
            "Juliana Barbosa\n",
            "['Victoria Nunes', 'Mariana', 'Beatriz']\n",
            "('Victoria Nunes', 'Mariana', 'Beatriz')\n"
          ]
        }
      ]
    },
    {
      "cell_type": "code",
      "source": [],
      "metadata": {
        "id": "F7eXrMUCpM64"
      },
      "execution_count": null,
      "outputs": []
    },
    {
      "cell_type": "code",
      "source": [
        "print(type(idade))\n",
        "print(type(altura))\n",
        "print(type(vai))\n",
        "print(type(nome))\n",
        "print(type(nomes))\n",
        "print(type(nomes2))\n",
        "print(type(tudo))"
      ],
      "metadata": {
        "colab": {
          "base_uri": "https://localhost:8080/"
        },
        "id": "NWSRgmUykQWJ",
        "outputId": "6e47ce7b-9ecb-429d-f270-4375cfe0ccda"
      },
      "execution_count": null,
      "outputs": [
        {
          "output_type": "stream",
          "name": "stdout",
          "text": [
            "<class 'int'>\n",
            "<class 'float'>\n",
            "<class 'bool'>\n",
            "<class 'str'>\n",
            "<class 'list'>\n",
            "<class 'tuple'>\n",
            "<class 'dict'>\n"
          ]
        }
      ]
    },
    {
      "cell_type": "code",
      "source": [
        "print(\"o nome dela é:\", nome, \",sua idade é\", idade, \",ela tem \", altura, \"metros\")"
      ],
      "metadata": {
        "colab": {
          "base_uri": "https://localhost:8080/"
        },
        "id": "1bEdMH3_mvt_",
        "outputId": "11ad7381-9b76-4189-da52-fd116fadd5da"
      },
      "execution_count": null,
      "outputs": [
        {
          "output_type": "stream",
          "name": "stdout",
          "text": [
            "o nome dela é: Juliana Barbosa ,sua idade é 14 ,ela tem  1.57 metros\n"
          ]
        }
      ]
    },
    {
      "cell_type": "code",
      "source": [
        "nome = \"Ana\"\n",
        "idade = 25\n",
        "print(f\"Nome: {nome}, Idade: {idade}\")\n"
      ],
      "metadata": {
        "colab": {
          "base_uri": "https://localhost:8080/"
        },
        "id": "IXEE9C1nr23W",
        "outputId": "d017ff8c-aca9-4ee3-e484-463ebef530a4"
      },
      "execution_count": null,
      "outputs": [
        {
          "output_type": "stream",
          "name": "stdout",
          "text": [
            "Nome: Ana, Idade: 25\n"
          ]
        }
      ]
    },
    {
      "cell_type": "markdown",
      "source": [
        "#Area do circulo"
      ],
      "metadata": {
        "id": "pgt5MVPxvdic"
      }
    },
    {
      "cell_type": "code",
      "source": [
        "PI = 3.14159\n",
        "raio= float(input(\"Digite o valor do raio do círculo: \"))"
      ],
      "metadata": {
        "colab": {
          "base_uri": "https://localhost:8080/"
        },
        "id": "81X09luwvo-t",
        "outputId": "0a680615-e65a-4952-a502-6eb3d4ef90ec"
      },
      "execution_count": null,
      "outputs": [
        {
          "name": "stdout",
          "output_type": "stream",
          "text": [
            "Digite o valor do raio do círculo: 4\n"
          ]
        }
      ]
    },
    {
      "cell_type": "code",
      "source": [
        "areacir= PI * (raio**2)"
      ],
      "metadata": {
        "id": "-itvjFDpwH4Y"
      },
      "execution_count": null,
      "outputs": []
    },
    {
      "cell_type": "code",
      "source": [
        "print(f\"A área do circulo é {areacir}\")"
      ],
      "metadata": {
        "colab": {
          "base_uri": "https://localhost:8080/"
        },
        "id": "JbsTaPNGxP5-",
        "outputId": "01df51c6-9f97-45df-8270-af8aa773b86f"
      },
      "execution_count": null,
      "outputs": [
        {
          "output_type": "stream",
          "name": "stdout",
          "text": [
            "A área do circuo é 50.26544\n"
          ]
        }
      ]
    },
    {
      "cell_type": "markdown",
      "source": [
        "#area do quadrado"
      ],
      "metadata": {
        "id": "GN3DGL26zxlA"
      }
    },
    {
      "cell_type": "code",
      "source": [
        "lado = 4\n",
        "area = float(input(\"Digite o valor do lado do quadrado: \"))"
      ],
      "metadata": {
        "colab": {
          "base_uri": "https://localhost:8080/"
        },
        "id": "39dPv9Fcz19g",
        "outputId": "8fd9cfac-be79-4b5f-aad5-7c57cc4ef1de"
      },
      "execution_count": null,
      "outputs": [
        {
          "name": "stdout",
          "output_type": "stream",
          "text": [
            "Digite o valor do lado do quadrado: 6\n"
          ]
        }
      ]
    },
    {
      "cell_type": "code",
      "source": [
        "areaqua = (lado **2)"
      ],
      "metadata": {
        "id": "gAaPqrG30iaT"
      },
      "execution_count": null,
      "outputs": []
    },
    {
      "cell_type": "code",
      "source": [
        "print(f\"A area do quadrado é {areaqua}\")"
      ],
      "metadata": {
        "colab": {
          "base_uri": "https://localhost:8080/"
        },
        "id": "sWVhc54B1CXF",
        "outputId": "1581f187-04aa-4573-ea37-4cc828c945d2"
      },
      "execution_count": null,
      "outputs": [
        {
          "output_type": "stream",
          "name": "stdout",
          "text": [
            "A area do quadrado é 16\n"
          ]
        }
      ]
    },
    {
      "cell_type": "markdown",
      "source": [
        "#Exercícios\n"
      ],
      "metadata": {
        "id": "-PiQ0xx-pJtw"
      }
    },
    {
      "cell_type": "markdown",
      "source": [
        "## Exercício 1 - Área do Retângulo\n",
        "\n",
        "Crie um programa que calcule a área de um retângulo usando uma constante para representar a base.\n",
        "\n",
        " Fórmula: A = base × altura"
      ],
      "metadata": {
        "id": "-8e9q4oApwK-"
      }
    },
    {
      "cell_type": "code",
      "source": [
        "base = float(input(\"Digite o valor da base\"))\n",
        "altura = float(input(\"Digite o valor da altura\"))"
      ],
      "metadata": {
        "colab": {
          "base_uri": "https://localhost:8080/"
        },
        "id": "R2mHLsKSqwYl",
        "outputId": "db202c7a-1cd4-4dca-bf55-9c681e07663c"
      },
      "execution_count": null,
      "outputs": [
        {
          "name": "stdout",
          "output_type": "stream",
          "text": [
            "Digite o valor da base5\n",
            "Digite o valor da altura4\n"
          ]
        }
      ]
    },
    {
      "cell_type": "code",
      "source": [
        "areareta  = (base*altura)"
      ],
      "metadata": {
        "id": "rSvo49zJr8of"
      },
      "execution_count": null,
      "outputs": []
    },
    {
      "cell_type": "code",
      "source": [
        "print(f\"A area do retangulo é {areareta}\")"
      ],
      "metadata": {
        "colab": {
          "base_uri": "https://localhost:8080/"
        },
        "id": "tin8YXIjsfsz",
        "outputId": "0e27dcd0-1ad5-4c5b-e6c5-cf5714f4c664"
      },
      "execution_count": null,
      "outputs": [
        {
          "output_type": "stream",
          "name": "stdout",
          "text": [
            "A area do retangulo é 20.0\n"
          ]
        }
      ]
    },
    {
      "cell_type": "markdown",
      "source": [
        "##Exercício 2 – Perímetro do Círculo\n",
        "\n",
        "Crie um programa que calcule o perímetro de um círculo usando a constante π.\n",
        "\n",
        " Fórmula: P = 2 × π × r"
      ],
      "metadata": {
        "id": "skzIz65Ds5c5"
      }
    },
    {
      "cell_type": "code",
      "source": [
        "PI = 3.14159\n",
        "raio = float(input(\"Digite o valor do raio do circulo\"))"
      ],
      "metadata": {
        "colab": {
          "base_uri": "https://localhost:8080/"
        },
        "id": "9J_gpHsKtMJi",
        "outputId": "c2911246-bb9b-407a-857a-cfd3f298091f"
      },
      "execution_count": null,
      "outputs": [
        {
          "name": "stdout",
          "output_type": "stream",
          "text": [
            "Digite o valor do raio do circulo 6 \n"
          ]
        }
      ]
    },
    {
      "cell_type": "code",
      "source": [
        "areacir = PI * (raio**2)"
      ],
      "metadata": {
        "id": "NKojyBbQvhzV"
      },
      "execution_count": null,
      "outputs": []
    },
    {
      "cell_type": "code",
      "source": [
        "print(f\"A área do Circulo é: {areacir:.2f}\")"
      ],
      "metadata": {
        "colab": {
          "base_uri": "https://localhost:8080/"
        },
        "id": "fh1hzpLyvymW",
        "outputId": "249848c8-f0b1-48f1-ea17-2cda4559136a"
      },
      "execution_count": null,
      "outputs": [
        {
          "output_type": "stream",
          "name": "stdout",
          "text": [
            "A área do Circulo é: 113.10\n"
          ]
        }
      ]
    },
    {
      "cell_type": "markdown",
      "source": [
        "## Exercício 3 – Conversão de Temperatura\n",
        "\n",
        "Crie um programa que converta uma temperatura de Fahrenheit para Celsius.\n",
        "\n",
        " Fórmula: C = (F - 32) × 5/9"
      ],
      "metadata": {
        "id": "8kBAy5jexmol"
      }
    },
    {
      "cell_type": "code",
      "source": [
        "f = float(input(\"Digite a temperatura do fahrenheit\"))"
      ],
      "metadata": {
        "colab": {
          "base_uri": "https://localhost:8080/"
        },
        "id": "7TJTpNmCxsnT",
        "outputId": "fdea99bb-40fe-4eb1-a4ca-ce6f1b89f3e9"
      },
      "execution_count": null,
      "outputs": [
        {
          "name": "stdout",
          "output_type": "stream",
          "text": [
            "Digite a temperatura do fahrenheit90\n"
          ]
        }
      ]
    },
    {
      "cell_type": "code",
      "source": [
        "celsius = (f-32)*5/9"
      ],
      "metadata": {
        "id": "6FmUdCR1zRk7"
      },
      "execution_count": null,
      "outputs": []
    },
    {
      "cell_type": "code",
      "source": [
        "print(f\"A temperatura do fahrenheit é {celsius}\")"
      ],
      "metadata": {
        "colab": {
          "base_uri": "https://localhost:8080/"
        },
        "id": "HOS1wnK62Qkc",
        "outputId": "e0055b5d-eab5-432c-a94b-6c4620a2de35"
      },
      "execution_count": null,
      "outputs": [
        {
          "output_type": "stream",
          "name": "stdout",
          "text": [
            "A temperatura do fahrenheit é 32.22222222222222\n"
          ]
        }
      ]
    },
    {
      "cell_type": "markdown",
      "source": [
        "##Exercício 4 – Cálculo do IMC\n",
        "\n",
        "Crie um programa que calcule o Índice de Massa Corporal (IMC) de uma pessoa.\n",
        "\n",
        " Fórmula: IMC = peso / altura²"
      ],
      "metadata": {
        "id": "LGWXnbs00oGw"
      }
    },
    {
      "cell_type": "code",
      "source": [
        "peso = float(input(\"Digite o peso\"))\n",
        "altura = float(input(\"Digite a altura\"))"
      ],
      "metadata": {
        "colab": {
          "base_uri": "https://localhost:8080/"
        },
        "id": "LjRd3p5c0s5S",
        "outputId": "ccc557e6-c6ed-4bd0-e70b-f79de889400d"
      },
      "execution_count": null,
      "outputs": [
        {
          "name": "stdout",
          "output_type": "stream",
          "text": [
            "Digite o peso55\n",
            "Digite a altura1.60\n"
          ]
        }
      ]
    },
    {
      "cell_type": "code",
      "source": [
        "IMC = peso/altura**2"
      ],
      "metadata": {
        "id": "XZFWVF1E2xDK"
      },
      "execution_count": null,
      "outputs": []
    },
    {
      "cell_type": "code",
      "source": [
        "print(f\"O peso e altura é{IMC}\")"
      ],
      "metadata": {
        "colab": {
          "base_uri": "https://localhost:8080/"
        },
        "id": "lQHh2OFr3bdB",
        "outputId": "a3153c02-d0ab-4ed0-8554-b2ce88990deb"
      },
      "execution_count": null,
      "outputs": [
        {
          "output_type": "stream",
          "name": "stdout",
          "text": [
            "O peso e altura é21.484374999999996\n"
          ]
        }
      ]
    },
    {
      "cell_type": "markdown",
      "source": [
        "Exercícios 14/03"
      ],
      "metadata": {
        "id": "uv0LhYY83sNi"
      }
    },
    {
      "cell_type": "markdown",
      "source": [
        "1) O custo ao consumidor de um carro novo é a soma do custo de fábrica com a percentagem do distribuidor e dos impostos (aplicados, primeiro os impostos sobre o custo de fábrica, e depois a percentagem do distribuidor sobre o resultado). Supondo que a percentagem do distribuidor seja de 28% e os impostos 45%. Escrever um algoritmo que leia o custo de fábrica de um carro e informe o custo ao consumidor do mesmo.\n",
        "\n",
        "Exemplo: Custo de fábrica do carro: R$25.000,00\n",
        "\n",
        "Impostos: 45% = R$11.250 (Total R$36.250,00)\n",
        "\n",
        "Distribuição 28% = R$10.150 (Total R$ 46.400,00)\n",
        "\n",
        "Para o consumidor: R$ 46.400,00"
      ],
      "metadata": {
        "id": "LCED3k7M3hOx"
      }
    },
    {
      "cell_type": "code",
      "source": [
        "#entrada\n",
        "valorcarro = 25000"
      ],
      "metadata": {
        "id": "GgjveVEj3xzT"
      },
      "execution_count": null,
      "outputs": []
    },
    {
      "cell_type": "code",
      "source": [
        "#processamneto\n",
        "impostotrib = (valorcarro*45/100) + valorcarro\n",
        "valordist = (impostotrib*28/100) + impostotrib"
      ],
      "metadata": {
        "id": "UeTr12nB-W0Z"
      },
      "execution_count": null,
      "outputs": []
    },
    {
      "cell_type": "code",
      "source": [
        "#saida\n",
        "print(f\"O valor final do carro é{valordist:.2f}\")"
      ],
      "metadata": {
        "id": "JwZoHdln_sRk",
        "outputId": "41a05d4d-fa85-4694-e9c5-4f3ed891ba5c",
        "colab": {
          "base_uri": "https://localhost:8080/"
        }
      },
      "execution_count": null,
      "outputs": [
        {
          "output_type": "stream",
          "name": "stdout",
          "text": [
            "O valor final do carro é 46400.00\n"
          ]
        }
      ]
    },
    {
      "cell_type": "markdown",
      "source": [
        "2)  Faça um algoritmo que faça conversão de minutos e horas em segundos. Solicite ao usuário a hora e os minutos separado.\n",
        "\n",
        "Por exemplo 4h23 minutos equivale a 4.38 para fazer cálculos matemáticos\n",
        "\n",
        "Para chegar a essa conclusão: 23/60 = 0,38 🡺 4+0,38 = 4,38\n",
        "\n",
        "Para o Teste de Mesa (prova real)\n",
        "\n",
        "3h40 = 3.67\n",
        "\n",
        "1h32 = 1.52"
      ],
      "metadata": {
        "id": "KW1Y9kZUACkw"
      }
    },
    {
      "cell_type": "code",
      "source": [
        "#entrada\n",
        "horas = float(input(f\"Insira o valor de horas\"))\n",
        "minutos = float(input(f\"Insira o valor em minutos\"))"
      ],
      "metadata": {
        "id": "9NFQ2zNTAG5Q",
        "outputId": "13182581-344d-4005-9362-8020e885992c",
        "colab": {
          "base_uri": "https://localhost:8080/"
        }
      },
      "execution_count": null,
      "outputs": [
        {
          "name": "stdout",
          "output_type": "stream",
          "text": [
            "Insira o valor de horas6\n",
            "Insira o valor em minutos40\n"
          ]
        }
      ]
    },
    {
      "cell_type": "code",
      "source": [
        "#processamento\n",
        "valorseg = (minutos/60) + horas"
      ],
      "metadata": {
        "id": "PQMDnVOOCHG4"
      },
      "execution_count": null,
      "outputs": []
    },
    {
      "cell_type": "code",
      "source": [
        "#saida\n",
        "print(f\"O resultado em decimal é: {conversão}\")"
      ],
      "metadata": {
        "id": "9U_7uxl-Df80",
        "outputId": "0eb9ddcc-4749-4964-fb8c-23f605b3017b",
        "colab": {
          "base_uri": "https://localhost:8080/"
        }
      },
      "execution_count": null,
      "outputs": [
        {
          "output_type": "stream",
          "name": "stdout",
          "text": [
            "O resultado em decimal é: 20.266666666666666\n"
          ]
        }
      ]
    },
    {
      "cell_type": "markdown",
      "source": [
        "3)  Continuando do exercício anterior, um funcionário trabalha em determinada empresa e quer saber quanto irá ganhar de hora extra. Você deverá fazer um algoritmo que solicite quantas horas e quantos minutos ele trabalhou, solicite horas e minutos de forma separada. Depois pergunte quanto ele ganha por hora e informe quanto ele irá ganhar. Sabendo que nessa empresa o funcionário ganha 70% a mais pelas horas trabalhadas.\n",
        "\n",
        "Ex. Trabalhei neste mês 15h45min == 15.75\n",
        "\n",
        "Ganho R$ 25 reais por hora\n",
        "\n",
        "Resultado tem que ser = R$ 669,37 com os 70% amais\n",
        "\n",
        "Outro teste de mesa: Se trabalhei 20h, devo ganhar R$ 850,00"
      ],
      "metadata": {
        "id": "7e_fkn2QD1Y_"
      }
    },
    {
      "cell_type": "code",
      "source": [
        "horastb = float(input(f\"Digite o valor de horas trabalhadas\"))\n",
        "mintr = float(input(f\"Digite o valor de minutos trabalhados\"))\n",
        "valorhr = float(input(f\"Digite o valor que voce ganha por hora\"))"
      ],
      "metadata": {
        "collapsed": true,
        "id": "ZvXpjobyD6kv",
        "outputId": "ef1ab9a8-854f-4238-8214-702e8151d059",
        "colab": {
          "base_uri": "https://localhost:8080/"
        }
      },
      "execution_count": null,
      "outputs": [
        {
          "name": "stdout",
          "output_type": "stream",
          "text": [
            "Digite o valor de horas trabalhadas 15\n",
            "Digite o valor de minutos trabalhados54\n",
            "Digite o valor que voce ganha por hora25\n"
          ]
        }
      ]
    },
    {
      "cell_type": "markdown",
      "source": [],
      "metadata": {
        "id": "94D5K7fLv5L-"
      }
    },
    {
      "cell_type": "markdown",
      "source": [],
      "metadata": {
        "id": "B07iSR-Ex9uP"
      }
    },
    {
      "cell_type": "code",
      "source": [
        "#processamento\n",
        "convertido = horastb + (mintr/60)\n",
        "salario = (convertido + valorhr)\n",
        "salario2 = (salario*70/100) + salario"
      ],
      "metadata": {
        "id": "zJsCQEUyImqW"
      },
      "execution_count": null,
      "outputs": []
    },
    {
      "cell_type": "code",
      "source": [
        "#saida\n",
        "print(f\"O valor ganho seráde {salario2:.2f}\")"
      ],
      "metadata": {
        "id": "hVwNyLaNLYQV",
        "outputId": "7faf5268-2bcc-4ad2-a491-beb5ac448214",
        "colab": {
          "base_uri": "https://localhost:8080/"
        }
      },
      "execution_count": null,
      "outputs": [
        {
          "output_type": "stream",
          "name": "stdout",
          "text": [
            "O valor ganho seráde 69.53\n"
          ]
        }
      ]
    },
    {
      "cell_type": "markdown",
      "source": [
        "Correção das atividades"
      ],
      "metadata": {
        "id": "DBlVrB6eyEoA"
      }
    },
    {
      "cell_type": "markdown",
      "source": [],
      "metadata": {
        "id": "Oz0iAEeyzezy"
      }
    },
    {
      "cell_type": "markdown",
      "source": [
        "1) O custo ao consumidor de um carro novo é a soma do custo de fábrica com a percentagem do distribuidor e dos impostos (aplicados, primeiro os impostos sobre o custo de fábrica, e depois a percentagem do distribuidor sobre o resultado). Supondo que a percentagem do distribuidor seja de 28% e os impostos 45%. Escrever um algoritmo que leia o custo de fábrica de um carro e informe o custo ao consumidor do mesmo.\n",
        "\n",
        "Exemplo: Custo de fábrica do carro: R$25.000,00\n",
        "\n",
        "Impostos: 45% = R$11.250 (Total R$36.250,00)\n",
        "\n",
        "Distribuição 28% = R$10.150 (Total R$ 46.400,00)\n",
        "\n",
        "Para o consumidor: R$ 46.400,00"
      ],
      "metadata": {
        "id": "DWHDrT2dzi44"
      }
    },
    {
      "cell_type": "code",
      "source": [
        "#entrada\n",
        "valorcarro = 25000\n",
        "#processamento\n",
        "impostotrib = (valorcarro*45/100) + valorcarro\n",
        "valordist = (impostotrib*28/100) + impostotrib\n",
        "#saida\n",
        "print(f\"O valor final do carro é{valordist:.2f}\")"
      ],
      "metadata": {
        "id": "K8p_vy9O2lLM",
        "outputId": "a25bae01-f671-4357-e804-8b858422e224",
        "colab": {
          "base_uri": "https://localhost:8080/"
        }
      },
      "execution_count": null,
      "outputs": [
        {
          "output_type": "stream",
          "name": "stdout",
          "text": [
            "O valor final do carro é46400.00\n"
          ]
        }
      ]
    },
    {
      "cell_type": "markdown",
      "source": [
        "![image.png](data:image/png;base64,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)"
      ],
      "metadata": {
        "id": "NADBElQ9-oLi"
      }
    },
    {
      "cell_type": "markdown",
      "source": [],
      "metadata": {
        "id": "xsvLqTiF43Tt"
      }
    },
    {
      "cell_type": "markdown",
      "source": [
        "2) Faça um algoritmo que faça conversão de minutos e horas em segundos. Solicite ao usuário a hora e os minutos separado.\n",
        "\n",
        "Por exemplo 4h23 minutos equivale a 4.38 para fazer cálculos matemáticos\n",
        "\n",
        "Para chegar a essa conclusão: 23/60 = 0,38 🡺 4+0,38 = 4,38\n",
        "\n",
        "Para o Teste de Mesa (prova real)\n",
        "\n",
        "3h40 = 3.67\n",
        "\n",
        "1h32 = 1.52"
      ],
      "metadata": {
        "id": "yLmLTt9W3JCX"
      }
    },
    {
      "cell_type": "code",
      "source": [
        "#entrada\n",
        "horas = int(input(\"Digite o valor de horas\"))\n",
        "minutos = int(input(\"Digite o valor de minutos\"))\n",
        "#processamento\n",
        "conversão = (minutos/60) + horas\n",
        "#saida\n",
        "print(f\"O resultado em decimal é: {conversão}\")"
      ],
      "metadata": {
        "id": "vZtAKy5S5ZdY",
        "outputId": "ea3a2ed4-6212-411c-ef00-85ae961dde04",
        "colab": {
          "base_uri": "https://localhost:8080/"
        }
      },
      "execution_count": null,
      "outputs": [
        {
          "output_type": "stream",
          "name": "stdout",
          "text": [
            "Digite o valor de horas20\n",
            "Digite o valor de minutos16\n",
            "O resultado em decimal é: 20.266666666666666\n"
          ]
        }
      ]
    },
    {
      "cell_type": "markdown",
      "source": [
        "![image.png](data:image/png;base64,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)"
      ],
      "metadata": {
        "id": "JJqydv-CC-AN"
      }
    },
    {
      "cell_type": "markdown",
      "source": [],
      "metadata": {
        "id": "BoLqr2iS_weE"
      }
    },
    {
      "cell_type": "markdown",
      "source": [
        "3) Continuando do exercício anterior, um funcionário trabalha em determinada empresa e quer saber quanto irá ganhar de hora extra. Você deverá fazer um algoritmo que solicite quantas horas e quantos minutos ele trabalhou, solicite horas e minutos de forma separada. Depois pergunte quanto ele ganha por hora e informe quanto ele irá ganhar. Sabendo que nessa empresa o funcionário ganha 70% a mais pelas horas trabalhadas.\n",
        "\n",
        "Ex. Trabalhei neste mês 15h45min == 15.75\n",
        "\n",
        "Ganho R$ 25 reais por hora\n",
        "\n",
        "Resultado tem que ser = R$ 669,37 com os 70% amais\n",
        "\n",
        "Outro teste de mesa: Se trabalhei 20h, devo ganhar R$ 850,00"
      ],
      "metadata": {
        "id": "w1uCM8Sr5UyY"
      }
    },
    {
      "cell_type": "code",
      "source": [
        "#entrada\n",
        "hora = int(input(\"Digite o valor da hora\"))\n",
        "min = int(input(\"Digite o valor dos minutos trabalhados\"))\n",
        "valorhora= float(input(\"Digite quanto ganha por hora\"))\n",
        "#processamento\n",
        "convertido = hora + (min/60)\n",
        "salario = convertido*valorhora\n",
        "resultado = salario +(salario*70/100)\n",
        "#saida\n",
        "print(f\"O valor do seu salário com hora extra, feito em base em {convertido} horas é: {resultado}\")\n"
      ],
      "metadata": {
        "id": "L8hVdVUw5aYo",
        "outputId": "8d66166a-2a84-493e-b93a-18f4625b6262",
        "colab": {
          "base_uri": "https://localhost:8080/"
        }
      },
      "execution_count": null,
      "outputs": [
        {
          "output_type": "stream",
          "name": "stdout",
          "text": [
            "Digite o valor da hora15\n",
            "Digite o valor dos minutos trabalhados45\n",
            "Digite quanto ganha por hora25\n",
            "O valor do seu salário com hora extra, feito em base em 15.75 horas é: 669.375\n"
          ]
        }
      ]
    },
    {
      "cell_type": "markdown",
      "source": [
        "![Captura de tela 2025-03-21 145505.png](data:image/png;base64,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)"
      ],
      "metadata": {
        "id": "18C1e28h_ry0"
      }
    },
    {
      "cell_type": "markdown",
      "source": [
        "4) Simulação de Investimento em CDB com Juros Compostos\n",
        "\n",
        "Uma pessoa deseja investir um valor em um CDB que rende uma taxa fixa de X% ao ano. Escreva um algoritmo que solicite o valor inicial do investimento, a taxa de juros anual (em %) e o período em anos. Depois, calcule o montante final considerando juros compostos.\n",
        "\n",
        " Fórmula dos juros compostos:\n",
        "\n",
        "M=C×(1+i)**t (O t é potência)\n",
        "\n",
        "onde:\n",
        "\n",
        "M = montante final (valor após os anos de investimento)\n",
        "\n",
        "C = capital inicial (valor investido)\n",
        "\n",
        "i = taxa de juros anual (em decimal, ou seja, 5% = 0.05)\n",
        "\n",
        "t = tempo em anos\n",
        "\n",
        " Exemplo:\n",
        "\n",
        "Valor investido: R$ 1.000,00\n",
        "\n",
        "Taxa de juros: 6% ao ano (0.06)\n",
        "\n",
        "Tempo: 5 anos\n",
        "\n"
      ],
      "metadata": {
        "id": "rhbemQkPEek5"
      }
    },
    {
      "cell_type": "markdown",
      "source": [
        "![image.png](data:image/png;base64,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)"
      ],
      "metadata": {
        "id": "PCK0IKuxEvDz"
      }
    },
    {
      "cell_type": "code",
      "source": [
        "#entrada\n",
        "capital = int(input(\"Digite o valor da capital\"))\n",
        "taxa = int(input(\"Digite o valor da taxa\"))\n",
        "tempo = int(input(\"Digite o valor do tempo\"))\n",
        "#processamento\n",
        "taxa = taxa/100\n",
        "m = (capital * (1+taxa)**tempo)\n",
        "#saida\n",
        "print(f\"O resultado é: {m}\")"
      ],
      "metadata": {
        "id": "T46716x2EkM6",
        "colab": {
          "base_uri": "https://localhost:8080/"
        },
        "outputId": "ec1d1223-2458-4856-d3c1-0d0f398e97a3"
      },
      "execution_count": null,
      "outputs": [
        {
          "output_type": "stream",
          "name": "stdout",
          "text": [
            "Digite o valor da capital2000\n",
            "Digite o valor da taxa12\n",
            "Digite o valor do tempo7\n",
            "O resultado é: 4421.3628148121625\n"
          ]
        }
      ]
    },
    {
      "cell_type": "markdown",
      "source": [
        "5) Divisão de Conta em um Restaurante com Gorjeta\n",
        "\n",
        "Um grupo de amigos foi a um restaurante e deseja dividir a conta igualmente entre eles. Além disso, o restaurante cobra uma taxa de serviço de 10% sobre o valor total da conta mais uma gorjeta.\n",
        "\n",
        "Escreva um algoritmo que solicite o valor da conta e o número de pessoas no grupo. Depois, calcule o valor total com a taxa de serviço e quanto cada pessoa deve pagar.\n",
        "\n",
        " Fórmulas:\n",
        "\n",
        "Definição da Gorjeta: Solicitar valor Gorjeta\n",
        "\n",
        "Taxa de serviço: Aplicar 10% da taxa de serviço do restaurante, somar ao valor total e depois somar a gorjeta, já que o garçom foi muito solicito;\n",
        "\n",
        "Valor por pessoa: Dividor pelo numero de pessoas\n",
        "\n",
        " Exemplo:\n",
        "\n",
        "Valor da conta: R$ 200,00\n",
        "\n",
        "Número de pessoas: 4\n",
        "\n",
        "Taxa de serviço (10% de R$ 200,00): R$ 20,00\n",
        "\n",
        "Valor total a ser pago: R$ 220,00\n",
        "\n",
        "Valor por pessoa: R$ 55,00"
      ],
      "metadata": {
        "id": "CLGYpwNOEp9z"
      }
    },
    {
      "cell_type": "markdown",
      "source": [
        "![image.png](data:image/png;base64,iVBORw0KGgoAAAANSUhEUgAAARQAAALkCAYAAADOCsr9AAAAAXNSR0IArs4c6QAAAARnQU1BAACxjwv8YQUAAAAJcEhZcwAADsMAAA7DAcdvqGQAAFyHSURBVHhe7d19WJTnnTf878CMvDgg+AI4amSIKBiaqCFJo23atbFRbLTNardRW9Mkj0l5tugadw292e69lmdtt9hI+hxuN92ksavu3tVNoynEhsSmaTBNStSkVsAXBt+GAREERt6GYe4/5oWZkxm4Rk+GmWu+n+OYQ+e8fnPym5lrfpzndZ1zoenosjpARCSB5uzZsywoRCSFxuFw+BSUgYEBAIBWq/VuHkZpHABYLBZkZGSIzT6U9ic7DszPL6VxYH5+KY2DyvKLETcQEd0qjlCYn1+B4rp6b6C9uxU3ulvR0dOGzp52XO+6Bjv60GPrRv9AL/rtfRiw2zDosMO9e2k0GsRoYqGN1WFCbBwmaOORoEtE4oQk6OMmITkhFZMSJiMpLgWpidOQMnGKz88VBcrPn3B6/fxRU34sKMzPL5vNhqaOi2i5eQXmGxfR0mXGdasFsTFaJMWnYGJcMuJ1esTpEhGvS0ScNgE6bTx0sROgjdEhNkaLGE0sNBoNAMDhcGDQYYd9cAADgzbY7P2wDfSib6AHvbZu9Nm60Wuz4mZfJ7p6b8A+OIAp+gykJRlgSJmN6ZNmwzAp09Of0ueBcXr9lMZBZflpLBaLT0Gx2+0AgNjYWO/mYZTGAYDVaoVerxebfSjtT3YcmB8AYNBhh7nTBHOXCU3Wi2ixXkFKwjSkTkzDpMQpSE6YiuSEyZigjfd53FjpH+hFZ08bOnta0dF9HTdutqC95xrS9DMxXT8bGRNnY3pSJnTaCeJDhwnF6ydSGgeV5ReSEUpzczPS09PFZh9K+5MdhyjO70b3dZxt/gRnWz7FxdZ6pCXPwhS9AZP1GZiin47YmJH7CjX74ACuW5vQZrWg1XoV1zqvYPbUeZibdjfmpt+DlET/06Sxev1GojQOKssvJAUlmCHTaP3JjkOU5ddubUWt5WPUWk6i/WYLDKlZmJY8C+nJs6GN1YnhYW3AbkNz50Vc67wMc3sDUiemYf70e5E34z4kxad44mS+frLjoLL8WFCiJL/aphM4ebkal66fwx1T5mF6ihHpk2aLYRGtueMimm6YcOl6Pe6Yko2Fs5Ygd/oiKa+fm+w4SHp/3WTHIcj8WFBUnF93vxV/anwXpy69j4nxkzAjNRt3TMnxHNhUK4fDgUvX63C1/Rxu9nYge8pCfPGulUicEPg4gL/Xzx/ZcbiN99cf2XEIMj+uQ1Gh9u5WVP75AH5S9fdo6riM++58BIuzV2H21FzVFxO4TlHPnpqLxdmrcN+dj+BGfyt+UvX3qPzzAbR3t4rhJBELiop09raj4tN9+Nnv/zd6BnpRcM+TuPuOh5CSmCaGRo2UxDQsyPwiCu55Ej0DvfjZ7/83Kj7dh86eNjGUJGBBUQH7oB2/O3sYe37/j+i192PFPU8i1/AA4nWJYmjUitclItfwAFbc8yR67f148dj38Hbta7APOk93khwsKBHu1OXjePGdYrTebMbyu59AruEBTIiNE8PIZUJsHHIND2D53U/gmtWCF98pxqnLx8UwukUam8025gdlW1pakJY28rBbaX+y4xCh+V2/2Yyq2kPo7u9CjuF+TE2a4bOdlGntuoo680dI0OnxpblfQ9qkkV9Hpe+b0jgEeH9FSvuTHYcg8+MIJQJ91HgMP3+/FMmJU/G5eV9jMbkNU5Nm4HPzvoZJE6fhlT/+EB81HhNDKAg8bRxB+XX3W3Hkk1/C2teBvJmfQ3LCZDGUbkNnTxtOX3kf+rhJWHXPt/yeZlb6vimNQwTtfyPhCCXCmFrr8NJ7pZigTcTi7FUsJmMgOWEyFmevwgRtIl56rxSm1joxhEbBghIB/tLyIX5V82+4a+Zi5BjuEzeTZDmG+3DXzMX4Vc2/4SMTp0DBYEEJc2+dOYja1o/xhZw1mJF6p7iZxsiM1DvxhZw1qLn4Ht46c1DcTAGwoISx10/9AldvNOKh3Mc4xRkHyQmT8bl5X8XVG414/dQvxM3kBwtKmDr48b/D2teJB+4sgDYmsr4FrCbaGB0euLMA1r5OHPz438XNJGBBCUOHPv539A/0Y1Hmw+ImGieLMh9G/0A/Xjv1H+Im8sKCEmYOn3oVPQO9WJi5VNxE42xh5lL0DfThN3/+T3ETuXClbBjld6z+dVy50YDPzlnpFUnh5oNzv8Gs1DuxdN5XxU0e/t7fQMJl/wskmPw4QgkTJy+/j7Mtn+Be4zJxE4WZ/Kwv42zLJzh5+X1xU9TjStkwyO9qewP2flCGL+Z+HSmJ08RQCkM3uq/h3dpfYeOD2zAjNUvcrHg/QBjsf6MJJj+OUMaZAw4c+eSXuDfzYRaTCJKSOA33Zj6MI5/8Eg7wr/m6saCMs8pPDyBVn45ZU+aJmyjMzZoyD6n6dFR+ekDcFLVYUMZRQ+sZnG/5M/JmLhE3UYTIm7kE51v+jPMtp8VNUYkFZRy9U/drzJ/5IGI0o/+xJQpPMZpYzJ+5GG/X/o+4KSqxoIyTP5qqkBiXhBmpc8RNFGFmpN6JxAlJOH7hLXFT1GFBGQc2ez8+aHgL2RmLxE0UoeZkLEL1+Tdhs/eLm6IKC8o4OH7hLcxIvZNndVQkJXEaZqTOifpRClfKjkN+5ce2Y3H2KkxKnCpuogjW0d2K4+eOYPPSHynaD9xCvf8hiDgEmR9HKCH2yZXjmKKfzmKiQpMSp2KKfjo+uRK9V9HnStkQ5/eL6h9h1tT5MKQMX11Jkc98owGXW8/gmw88B4ywH3gL5f7npjQOQebHEUoIXbc2o+3mNRYTFTOkZKHt5jW03WwWN0UFFpQQqrOcwMzJPE2sdjMnz0F98ydic1RgQQmhc82nMS15lthMKjMteRbOX4vOlbMsKCEyYLfhSvsFpLGgqF5a8ixcbW/AwKBN3KR6LCghcuVGA6Ylz+Qy+ygQo4nFtOQZuHrDJG5SPRaUEGm6cZEL2aJISmIamjouic2qx4ISIs1dV6GPTxWbI8tb23HXF1/FFbHdx1W8+sU8/MNIC0YV9RPZ9PGpuNZ1VWxWPRaUEGm/eQ36+Elic2T58o/wl3efwEyx3ccMPPHuafzrl8V2L4r6iWz6+Elo724Vm1VPY7FYfBa22e12AEBs7MhzfaVxAGC1WqHXD//D096U9ic7DiHK778+fQGL5z0KfVyKT3tEeWs77vqXXPz23SfQ8N08/BgrgYMVaACAnG347btPYCau4tUvPoIz33MVFdOrePTBMt8Yr35mAnjvu3n4juuP82V9/7d4o3CG78+NQNa+Gzhe/wYev/vvxE3DhGL/EymNQ5D5hWSlbHNzM9LT08VmH0r7kx2HEOX3o6ObsfzujdDFxvm0RxShoHzn4Er8m+VHeMhVNHJ/eRr/+mXvgvIe/iGjDPM/OIInjM7C8ePc3+KNOS96+sGeVXhkR66ffsQfHlls9j4c/XQvti8vFzcNE4r9T6Q0DkHmF5Ipj1Czwk4o8rPZ+9X3FwDXrsRDAGBchr/OETcCeKsCFTmP4WGj8+5DPz09bPTRUNuArO8Xufp5An+/Fqh44z2fmEikjdEpvpRBKPa/2xFMfiEpKAQ4HIPQaNT1cmfljvzH26+crxWbBFfR8GfflqxcdXwtQaOJgcMxKDarnrr28DAWjTvYzDm5YpNgBrI+49vSUNvg2xCh1PgLRInoe8bjRBc7IfpWTmbnIqvuNbztWt/13nfzcNd3faczWblZaNjxIt6D8wDujw8CKx99yCcmEg0M2qCLnSA2qx4LSogk6Caib6BHbFY34xN445e5+PGDebgrIw/f+fM2/PanvsViZuER/NvaCnwnIw93PVgGfP+3EX9AFgD6BnqQoEsUm1UvJGd5grmewmj9yY5DiPL7RfW/Iiv9HkxLUvPqC3K71nUFFyyn8OTntoubhgnF/idSGocg8+MIJURSJ06FtbdDbCaVsvZ2IDUKr8rHa8qGKL8PTW/jSsdFfGbW53zaSZ3+fPl9GJJm4cE7R5+/hWL/EymNQ5D5cYQSIhmT7sCN7mtiM6nUjZstSI/CS1XwGEqI8huw2/DDN7+Lr+YX8hIGKjfosOP1mj3Y9uUXED8hQdw8TCj2P5HSOASZH0coIaKN1WFG6p1o6bwsbiKVaem8jBmpWepbGa0AC0oIzU3/DK6xoKjetc7LmDMtT2yOCiwoIZSTsRBX2s6LzaQyV9rOY176PWJzVGBBCaEp+nRMnjgN5hvqWF5Ow5lvNGDyxGmYPHHkb+eqFQtKiC2YtQRXrp8Vm0klrlw/iwWzlojNUYMFJcQW3vE5XLc2oSMKr+aldh3drbhubcLCO6J3rRELyjjIz/wiTNeE7+1TxDNdO438zC+KzVGFK2XHIb8Buw0/ffd7WDJ3Na+ErxI3uq+h+uxhfPeL/wJtrE7RfuAW6v0PQcQhyPw4QhkH2lgdHsh8GOeaToibKEKds5zAg1lfhjY2+taeeONK2XHM7+fv/3+Yk7EAM1L5944j2dX287jQfArPfuGfPG1K9wOM4/4HBXEIMj+OUMbRl3K+hjNXPsCgw3nFcIo8gw47zlz5AA/n/rW4KSqxoIyjrKnzMSftMzh9pVrcRBHi9JVqzEn7DOakRefKWBELyjgruHsd2q3NuHy9XtxEYe7y9Xq0W5tRcPc6cVPUYkEZZxposOqeb+Hjxrd5eYMIcqP7Gj5ufBur7vkWNNCIm6MWC0oYmJGahUfu+gZONL6j+G+50Pix2ftxovEdPHLXNzAjVR1/9kMWFpQwce/sh5CTsRAfm6rETRRmPja9hZyMhbh3duRfnV82FpQw8nDuY5gyMQ0fN74tbqIw8bHpbUxOTMPDuY+Jm4grZZ3CLb/XTv0HbHYbFmYuFTfRODrZeAzaGC1Wf+bbft83byO9v6Jw2/9EweTHEUoYemzB09DF6vCxiSOVcPGx6W3oYnVY/Zlvi5vIC1fKhnF+r5/6Bdq7W3GvcVlUXk4wHAwM2vCxqQqpiVPx1QXfVvS+QeH76xau+59bMPlxhBLGvrrg25iRkon3al9DZ0+buJnGWGdPG96vfx0zUjLx1QUcmSjBghLmvjx/LXKn3ovf1x3C1fYL4mYaI1fbL+D3dYeQP/shfHn+WnEzBcCCEgHuSnsAX8//Dv5y5TjqzH8SN5NkdeY/4S9XjuPr+d/B/UYeGA8GC0qEME7NwaaHStA/0I3j545wCjQGOnvacPzcEfQPdGPTQyUwTs0RQ2gULCgRJHGCHt+4rxB5hvvw9l8O4ELzJ2II3aILzZ/g7b8cQJ7hPnzjvkIkTtCLIaQAC0oE+mzWw3j2C/+Ezp5reL/+dbR2XRVDSKHWrqt4v/51dHRfw//zuRJ8NuthMYSCwIISoabqM7D+gc24z/hFfGx6G59c+j26+7vEMAqgu78Ln1z6PT42vY37jF/EN/L/X0yJ0j99IRMLSoRbOGsJir60E1MnpuPop6+i1vwh+u19Yhi59Nv7UGv+EEc/fRXT9Bko+tJOLIziP3shm8ZisfgsbLPbnVcPi40d+Q96K40DAKvVCr1+5Dmp0v5kx0FF+d3s78CnLdU423oK2ekLkZV+N+J1iWJoVOq1daOh+VOcaz6JuVMXYMH0h6CfMMmzXen7ITsOQby/UNCf7DgEmV9IVso2NzcjPX3k4aTS/mTHQYX5tXe34oMLb+HEpT9gTtrduGNqDlISR/4uhlrd6G5BY8sZNLSexqI7Po8H7/wyUhOnimGK3w/ZcbiF93cksuMQZH4hmfIINSvsqC2/1MSpKPjMOmxd9mNMnzQLf7rwWxw/dwQXW2uD7isSORwOXGytxfFzR/CnC79FyoSp2Lrsxyj4zDq/xWS8hft7Ekx+ISkoND4SJ+jxhblfweaHf4gldz6C9ptNeOPkSzh18V00d1wUwyNec8dFnLr4Lt44+RLabzZhyZ2PYPPDP8Si6V/gaeAQCcmUJ5gvF43Wn+w4RFl+7dZWnLF8jDrLSbTfbIEhNQvTkmchPXl2xP1NmQG7Dc2dF3Gt8zLM7Q1InZiG+dPvRd6M+5AUn+KJk/n6yY6DyvJjQYni/G50X8fZ5k9wtuVTXGytR1ryTEzRz8BkfQam6KcjNmbkvkLNPjiA69YmtFktaLVexbXOK5g9dR7mpt2Nuen3ICVxivgQYAxfv5EojYPK8mNBYX6A6+/LmFrrYWqtw6W2c2i60YjUiWlInZiGpPjJSE6YiuSEyZigjfd53FjpH+hFZ08bOnta0dXbhvab19B+sxnTUzJxx+RszE7NxuwpczFBFyc+dJhQvH4ipXFQWX4sKMzPL5vNhqaOi2i5eRXmG41o6TLjutWC2BgtkuJTkBiXjASdHnG6RMTrEhGnTYBOGw9d7ARoY3SIjdEiRhMLjcZ5RXiHw4FBhx32wQEMDNpgs/fDNtCLvoEe9Nq60WfrRo/Niu6+TnT13oB9cABT9BlISzLAkJKJ6ZPugGFSpqc/pc8D4/T6KY2DyvJjQWF+fgWK6+q9gfbuVtzobkVHTxs6e9pwvasVdvShx9aN/oFe9Nv70NffC8AB91+Y0Gg0iNHEQhurw4TYOEzQxiNBl4jECUnQxyUjOWEyJiVMRlJcClITpyFlov/pi1ug/PwJp9fPHzXlx2vKMj+/lMYhQH46nQ42m81zX2l/suMQID+R0v5kx0Fl+fG0MRFJwykP8/NLaRwC5KfRaHwWRCntT3YcAuQnUtqf7DioLD+OUIhIGhYUIpKGBYWIpGFBISJpWFCISBoWFCKShgWFiKThSlnm55fSOATIjytllcVBZflxhEJE0nClLPPzS2kcAuTHlbLK4qCy/DhCISJpWFCISBoWFCKShgWFiKRhQSEiaVhQiEgaFhQikoYrZZmfX0rjECA/rpRVFgeV5ccRChFJw5WyzM8vpXEIkB9XyiqLg8ry4wiFpNi1axfi4+NRXl7u015eXo64uDi88MILPu2kTiwoJMWmTZvgcDhQXFyMlBTnHypPSUlBcXExNBoNnn76afEhpEIsKCRFUlISCgsLodVq0dHRAQDo6OhAT08PiouLkZSUJD6EVIgFhaTZsWOHZy7tFh8fj61bt/q0kXqxoJA0SUlJeOaZZ3xGI88//zxHJ1GEBYWk8h6lJCQkcHQSZVhQSCr3KEWn02H79u0cnUQZFhSSbseOHXj88cc5OolCGovF4rOwzW63AwBiY2O9m4dRGgcAVqsVer1ebPahtD/ZcRin/Ab6OtFfswF9bR+JmyjKTJh8HxIf+C9otIH3QaX7lew4BPn5CMlK2ebmZqSnp4vNPpT2JzsO45Rfe/2ruHl+H2Yu+pG4iaJIx9UKtFk+gPErb4qbfCjdr2THIcjPR0imPELNCjvjkd/NxteQlPaQ2ExRxtr8B8RmFIjNYSWYz0dICgr5GrR1wXr5DSRl/JW4iaLI4EA3uprehi5jhbgpYrGgjIOuxtehn/4lxGgTxU0URbqaf4ekO1aNeOwk0rCgjAOr6RCnOwRr8x+gN/612BzRWFBCbNDWha5LRzjdiXLu6U5S5tfETRGNBSXEuhpfRxKnO1HPPd2J0alr4R8LSohZTYeg53Qn6qlxugNeU9YpVPkN2qxo2J+KuY+8xxFKFBsc6MbZ3z6ErPVtiNElhWz/86Y0DkF+PjhCCaGbl3h2h5zTHf2sr6huuoNQrZQN5pqUo/UnOw4hzO/qW6uhT70Xk2auFDdRFLl64nno534Tk7K/BYRw//OmNA5B5scRSojw7A5BxWd33FhQQoRndwgqPrvjxoISIjy7Q1Dx2R03FpQQ4HSHEAXTHbCghAanO4QomO6ABSU0ON0hRMF0BywoY4/THUKUTHfAlbJOY5lf14V9vDIboeNqBbqu1yDjS6+Jm8Z0/wtEaRyCzI8jlDHGK7MRAHQ1/wETMx8Tm1WHK2XHML9BWxfO7k3md3einPu7O3M3dvo9IDtW+99IlMYhyPw4QhlDXY2/5tkdioqzO24sKGPIavof6NM53Yl20XB2x40FZYx4zu6k8+xONIuWsztuLChjhNMdQVUJNEv3wSS2+6jGesNa7GoU28fL7ecTTdMdsKCMHU53BMtK4Ti2AUaxXeWiaboDFpSxEXC607gP8w0l2LVnLTSGfGjE335VJa72fN/f5t7thhJUjtYOM3YtdbfnY32VZ4PwGGFbQNVY735MUYnvb+3GfZjvL4eqEmiWrnVuW7oPJp8Rir/8zNi1dDMOwIRti939e/1cQz40RdXu3kfmnVOg11HIZX2R17aiain5RNt0BywoY+PmpcMjTHeOYlvdFjjMNWgoAbY96dqxG/dh/sZ6lB2vgcN8BGXYjayiaudO7GmvQUNJPbbtMY/QDlQWrcI2bEGDuQaOvctxYKPrA+HzM2rQUGLEgZ2jTUOAyqLNOLCm3PmYnHoc8GypxvrFu4GSI3CYa1Cx5ihWen+A64CnjtcMG5lUFq3Ctjxnf0P5GfDcsXKsgxFlxw/iuUznB/qkq2/H8S3IPbRbwfSjGusXH3b+XHMNKvJ2Y+Ues+u5H8W6veLr63TgdI7n9cKh3VLy6bJE13QHAGIGBgYw1rfBwcFhbeF0k53fyNMdI8q2LnH+r3AL1tUdxmuNgKnyMGpzVuOxTAAw4Lni5cBp07APu7HwIM4UGoRW73Yzak8D64pdH+JlhSjLMeHlSjOQuQFnzAfxXKbrMdnzhF78qcb+Q0LO7k2NJpzEcpS58inYugW5rufjNA+5rp81pBr7DwHrHnX2587vxDkxzoDnjtUMPddMIxaKIf5UvYkDntcRKHjR1ce5OtTmbEHpMgy9vofe9Iyoctcsdb1eK4aen4/g8+lqeQ+Js782bP8Qb7L3P9m3YPLjCEWyQZsVN6/8Zvh0x8Pfh8ylbjey3MPpjUeBujrUYgn2H1+NlxeLQ/VA7SacqPPu1IDcvKF7lUVeQ/aNR70D/Ws04aTY5nauDrXe98UPWU4Ocr3vezmw0Z3HKmyrA06ec46ufPhMzzZ7jYwCM52rF5sAf+3ZvrktzB5epIcJIp/BgW5Ym97BxDtWi5tULUar1WKsbzExMcPawukmM78+829GuRB1PWo9xx+ED6trWjF0K0UB4BpZuKYpaw4PDdX9thuxKMe7U+eIBXB+IFYeWo4Kd/97l3sH+icWCW/Ch3LY8wnI6Jl2uW/DR13VWO+ZotTAYS4PMHLwFWjUNaxdLIajCi4f54WoH8WEhNRh+4h4k7n/jcUtmPw4QpFs9O/uuKYf8J3mGAtW+8zJK4tcow7XgdyhA65Abo7Rc4B3WLtrROI5NlK1B9vqjHiqQPzAmrFrp4IRCpZg/RoTtv3EWcRMe3YP/WbONGIhjg4du/nJbq9pWyC+/bkPoI52cNjn544kO8dn2lVZ5Dp4mp2D3LrdKHEfAN55FFizwlmwb8Fo+XQ1vxcV390ZxiGw2WwOm80mNg+jNM7hcDiamprEpmGU9ic7ziExP3t/p6P253DYL73ncJhrht+Ob3HkYrlj3Ro4ADiA5Y4K7+17l7vafbc1lBiH2nO2OBpGaXeYjzjKctz9wLFur792o6NsrzOfCq/cfPLx3Mod61x95ZZscayD0VF23Ps5Dc/ZsXe5b04+933zyy05IuTn7N/7+eWWlDvKctzPpdw3B/Hm/TqKOQxrd/7ModfIu2+l+fje7Jfec9T+HI6+7jZxF/FL1v7nGIM4R5D58cuBEvPrOPdLdJ39T8xc9ENxk1PjPsxfXIcy91QmzFQWlQAvjpJbVQk0G4GKYJ9DVQk0O3PQIGktimlPCV4rKPUcYA4n3pcqGGl/cZO1/2EM4hBkfpzySGQ1/Q+S0j8vNkeIauyHvymA75oRzcZ6lB0PrphUFjkPAHvOPN02M16ryxllajV+rNE63eHlC5xk5MdLFRD8/JnRQPuLNxn7n5vsOASZH0cokji/u/Mwi0mUi7bv7ohYUCRxLmaL1OkOyWJtfi+qvrsjYkGRIOB3dyiqOL+7805UfXdHpLFYLD7HUOx2OwAgNjbWu3kYpXEAYLVaodfrxWYfSvuTHQcJ+fVfOQg0/Rqz7v1XcRNFkY4rFWhr/gCJ97064v4iut39z5vsOASZX0gOyjY3NyM9PV1s9qG0P9lxkJDf1bdWQz/5XkyasVLcRFHk6ont0M/diEnZ3xxxfxHd7v7nTXYcgswvJFMeoWaFndvJj9Mdgs9056viplHdzv4XCsHkF5KComY8u0OI0ksV+MOCcpt4docAwNryHvTGNWJz1GFBuQ2c7hBuc7qjNiwot4HTHQKnOz5YUG4DpzsETnd8sKDcIk53CJzuDKOx2Wxjvg4lmL/ePlp/suNwi/l1XdiHm+f3B75UAUWFjisV6GpzXqrAm7i/jORW9r9AZMchyPw4QrlFNxsj+VIFJEtXS/ReqsCfkKyUDebrz6P1JzsOt5AfL1VA8LpUwdyNncMOyI7l/jcS2XEIMj+OUG4Bz+4QeHbHLxaUW8CzOwSe3fGLBSVIPLtD4NmdgFhQgsTpDoHTnYBYUILE6Q6B052AWFCCwOkOgdOdEbGgBOHmpcOc7hCnOyPgStkg8mt5dy0mTb2PV2aLcldObMfEORuQdOcGcZPHWOx/UNCf7DgEmR8LisL8+nvace3YKvRc+6O4iaJMwrTPYvqX30SMLvB1VmXvf0r7kx2HIPPjSlnm55fSOATIT6PR+Fw6UGl/suMQID+R0v5kx0Fl+fEYChFJw4JCRNKwoBCRNCwoRCQNCwoRScOCQkTSsKAQkTRc2Mb8/FIahwD56XQ62Gw2z32l/cmOQ4D8REr7kx0HleXHEQoRScOVsszPL6VxCJAfV8oqi4PK8uMIhYikYUEhImlYUIhIGhYUIpKGBYWIpGFBISJpWFCISBoWFCKSRmOxWHwWttntdgBAbGysd/MwSuMAwGq1Qq8PfP1NBNGf7DgwP7+UxiFAfhkZGbBYLJ77SvuTHYcA+YmU9ic7DirLLyQrZZubm5Geni42+1Dan+w4MD+/lMYhQH7htFLWX34ipf3JjoPK8gvJlEeoWWGH+d0eh8OBXbt2IT4+HuXl5T7bysvLERcXhxdeeMGnPZQi4fULZ8HkF5KCQuq3adMmOBwOFBcXIyUlBQCQkpKC4uJiaDQaPP300+JDSIVYUEiKpKQkFBYWQqvVoqOjAwDQ0dGBnp4eFBcXIymJf2UvGrCgkDQ7duzwzKXd4uPjsXXrVp82Ui8WFJImKSkJzzzzjM9o5Pnnn+foJIqwoJBU3qOUhIQEjk6iDAsKSeUepeh0Omzfvp2jkyjDa8oyP7+UxsFPfl1dXdi8eTPKy8s9BUVpf7Lj4Cc/f5T2JzsOKsuPBWUM82s79QO0ndohhpDKTV7wfSTnFQMK9heM4f43EqVxCDK/kKyUDeaalKP1JzsOY5hf64l/BrrMmDp3kxhGKtV69iUgyYCUu/8XoGB/wRjufyNRGocg8+MxFCKShgWFiKRhQSEiaVhQiEgaFhQikoYFhYikYUEhImm4sG0M82s79QPE3LRwHUoUaT37EgYnZkTtwjaOUIhIGq6UHcP8uFI2+nClLBGRJCwoRCQNCwoRScOCQkTSsKAQkTQsKEQkDQsK3SYzdi3Nx/oqsV3QuA/zDSWoFNtJVbhSdgzz40pZL437MH9xHcrMpSgQt6kIV8pSdKsqgcaQD40hH+uLSqBZug8mP9uG2p0jkvlL1zofUyWMUBr3Yb77MZ4RSTXWL96NWhzFSnebd98GBSMciggxWq0WY32LiYkZ1hZOt7HKLyYm3Ot1NdZvPIp1e2vgMB/BotNHhzY17sN8r21l2I2somrP5tq8LXCYa7B/2dBD3IVj4d4aOMw1qFhzFCuX7oMJS7D/+BbkYjkqzKUoaNyH+RvrUXbcGddQYsSBnV6FzE0oOpFSfILdn4KND/UtmPzCfY+nsVT1Jg7kbEHpMgAw4Lni5UPbztWhVtx26E3PMZDcHONQrFvVmziA5VjvKjIFW7cgt64OtWJc5gacMR/Ec5nOu8bseWKE07JSOMzOouN98y1iFE5YUKKY6Vy92OQxbFt2DnK97i7MNnjd83YUK92jicW7UYt61DaKMUBlkdeoY6PXyIgiGgtKFAs4MvC37ZyfkYY/OVvQ4DOiGBqJeFSVYOWh5ahwx+z1Ghl5i9ApTzRjQYlmy1ZgXd1ulFTBebB1p9dIITsHueK2NStGPkPj0x9g2rPW68BsIMLP9cYpT8RhQYlqS7B/73Ic2JgPjWEzsMZrpJC5AWc821ZhG7ag4cUl3g/2w3nw9eRG50giqxQoO+46TZxpxEL3WZ5lhSjLcU+NNgPFAY61UMTh9VDGML9Iux5KZVE+VqIcjlELhzczdi1dhRPFHDmA10PhCCWq+awZycfK00pGIV4a92G+a/TiPBtE0Y4FJZplbsAZ7+MTxzbAz8ngwNyPD/ZxpFoai8XiM+Wx2+0AgNjYWO/mYZTGAYDVaoVerxebfSjtT3YcxjC/3rNlmDjYGTFTHrp9rWdfglWTjAlz/g5QsL9gDPe/kSiNQ5D5heQYSnNzM9LT08VmH0r7kx2HMcwv0o6h0O27lWMoY7X/jURpHILMLyRTHqFmhZ1wz4/ULdz3v2DyC0lBoTHWuA/zvb/UJ4lpz1povL6/MxLTnrX+F5z5u2yB98FgsX8/z6WyKB/z95i9WtxrXPwvdBtahbsWu9yrdKtKhv8sko4FJeKZsevJw3jqlfE6MFqN9Ya1KKmbB7whFKDGfZi/eLewvsT7C4RHUHZ6s0+xMFUeRm2e0fNcKovysfKQZ7NTVQmySuc5V9oe34KTG4cKh2nPWufZKnMNHHvnYdtiVzFbVooKbB5WfEguFpRIV7UH2/K2eC1vr8Z6z6lgr5GB38sKuH5zLy3B+qXCb/WqEmSVmoBDmz1FwntUMPTbfwn2m8ux6PRRnMzxWsNSVQLN4sN4au8Wn+8AodGEk54vEBrw2Bojag8d84xIautMWPfoEs9lElaiHBVrvDtwfc/IvWo3cymeyjHh5UpnUaqtMyF3zVJnQVq2AutwFPtdRaRg6xac9PetZpKGBSXCVb5x1PUBhOtDuBlwXT6goaQeK4uqPaMClByBw+eyAi51R4Fi14ghx4RtP6kGlpWiocQIrHEVCe9RgbkGFWtccQAqi5wL28rqVg2NAJaVOr/Hk+3+IS7n6lCbM/RFQ2P2PMCzSrYa+w8NFZvnjtX4XWRXW2fy+razAbl5zjbAjNrT3l9cNGJRDnDynGsElLkUT+EwXvPzZUWSgwUloplRe9qIRe4PbeMxvFw3dPkAY+FB5wfSNSooK3R+0JyXFfD+YPmOGPxaVgqH19XWvC9fUPCic5Ws+9+RDPsWs7eqN3HAq9j45ywa/plwok5s82ZAbp4JJ86J7SQLC0pEEz5Agb4RLLZnGrHQ+/6oH2J4piDuKU9W6a1NHIZ9i9mL6Vz90HQlIOeIxD/niITGT8zAwADG+jY4ODisLZxuY5Xf4OCg+HpLJnyAhGuWeIjtjSac9L6vgGnPZucXBF1TnoaSkT/2AWXn+HwR0HSu3lXQzHjtEPBUQaDrrAzJzTG6pjjwjFicIyZnsfFMcVwFN/C1W8ZGsPtTsPGhvgWTH0coEU0Ywru+0es+CGnas9Z5LVhX+zbX2ZTKn+xGbc5qPCZep0SxapTc4gjFN0czXjvkOojaeAwv181DroKcjNnzhq4e13gML9cZPYUoN8frIK9wBblhU0SSjteUHcP8QnFN2YJHl+PAG+5TteLlA+ah4tgGGF3tKF3l/BLgoeWu9pE5P7jOszzGwi1YV7cbWYZ8aAxvYv3e5cBp0y2cMfHOcRW25ZXjTKHBOS0b7XorbstKnQecDc6rwi3c63U5ycKDqMhz5bmxfujyCXAVH9xOIVUm2P0p2PhQ34LJLyRL74P5+vNo/cmOwxjmF5ql964zO6/4uTIa+agsysf+R0c/cHw7bmXp/VjtfyNRGocg8xv7X6E0xgx47pXVePlJrq8YUVUJVqJ8TIsJsaCoQ+YGnFEwhYlqy0r9rmkhuVhQiEgaFhQikoYFhYikYUEhImk0NpttzE8bB/PX20frT3YcxjC/tlM/QMxNyxifNqZw0nr2JQxOzEByXjGgYH/BGO5/I1EahyDz4wiFiKThwrYxzC80C9sonHBhGxGRJCwoRCQNCwoRScOCQkTSsKAQkTQsKEQkDQsKEUnDlbJjmB9XykafaF8py4Iyhvm1nfoB2k7tEENI5SYv+H70FhSulGV+/iiNQ4D8NBqNzx/ZVtqf7DgEyE+ktD/ZcVBZfjyGQkTSsKAQkTQsKEQkDQsKEUnDgkJE0rCgEJE0LChEJA0LChFJo7FYLD4L2+x2OwAgNjbWu3kYpXEAYLVaodfrxWYfSvuTHQfm55fSOATILyMjAxaLxXNfaX+y4xAgP5HS/mTHQWX5hWSlbHNzM9LT08VmH0r7kx0H5ueX0jgEyC+cVsr6y0+ktD/ZcVBZfiGZ8gg1K+wwv9vD/G6PmvILSUEhoujAgkJE0rCgEJE0LChEJA0LChFJw4JCRNLwEpDMzy+lcQiQn06ng81m89xX2p/sOATIT6S0P9lxUFl+HKEQkTQhWSkbzDUpR+tPdhyYn19K4xAgv3BaKesvP5HS/mTHQWX5cYRCUuzatQvx8fEoLy/3aS8vL0dcXBxeeOEFn3ZSJxYUkmLTpk1wOBwoLi5GSkoKACAlJQXFxcXQaDR4+umnxYeQCrGgkBRJSUkoLCyEVqtFR0cHAKCjowM9PT0oLi5GUlKS+BBSIRYUkmbHjh2eubRbfHw8tm7d6tNG6sWCQtIkJSXhmWee8RmNPP/88xydRBEWFJLKe5SSkJDA0UmUYUEhqdyjFJ1Oh+3bt3N0EmW4Upb5+aU0Dn7y6+rqwubNm1FeXu4pKEr7kx0HP/n5o7Q/2XFQWX4sKLeQX9upH6Dt1A4xhCgokxd8H5MX/GPQ+99IZMchyM8HV8reQn6tJ/4Z6DJj6txNYhiRIq1nXwKSDJi66J+C3v9GIjsOQX4+eAyFiKRhQSEiaVhQiEgaFhQikoYFhYikYUEhImlYUIhImpiBgQGM9W1wcHBYWzjdgs1vcHBQfB2Jgube74Ld/0J9CyY/jlCISJoYrVaLsb7FxMQMawunW7D5xcSwDtPtc+93we5/ob4Fkx8/GUQkDQsKEUnDgkJE0rCgEJE0LChEJA0LChFJw4JCRNKwoBCRNBqLxeJzCUi73Q4AiI2N9W4eRmkcAFitVuj1erHZh9L+ZMfhFvLrPVuGiYOdvAQk3bLWsy/BqklGwrxtQe9/I5EdhyA/HyG5pmxzczPS09PFZh9K+5Mdh1vIj9eUpdvlfU3ZYPe/kciOQ5Cfj5BMeYSaFXbCPT9St3Df/4LJLyQFhYiiAwsKEUnDghJBKovyMX+PWWy+TdVYbyhBpdh8q6pKoFm6DyaxXTA2z2VsKMvVjF1L12JXo9geXVhQolxl0WZgbykKxA23alkpHMc2wCi2q54Bz72yGi8/OXoxVTMWlLHWuA/zDfnQGPJ9f3NXlTjbhPbKonzMLyoZ9hjTnrVYeQioLV3l+m1pxq6lrhixb6Ua92Hb6S0oXeZu8OpzaQnWL83H+io/2wxe7VUl0Cxd68x36T6YhBFKZdHQY9y/5W/3uZj2rB19xDAer3vmBpTl7UaJ5zWLPiwoY6oa6xcfxlPHa+Aw16AibzdW7jE7d/aNR7Fubw0c5iMow25kFVV7HlV7CCgz18BxfAty65w7qLHwICrWALklR3Cm0IDKolXYllcOh7kGDnM51rninFMYrx3effPq381UeRhYs9QzmjDt2Yxt2IIGcw0cxcCBuqHYyqJVQ9v2LseBjV7D+zo4n6MwMjHtWYuVp12POb4FKF2F9UE9l1s1Hq+7U8Gjy3HgjeGvdbTgNWVvIT/F15StehMHclbjsUzn3YIXa3Cm0ACcq0NtjntkYMBzxcuBQ28OHcdYs8I5BclciqdyPL35KHixBo4Xl7juGbHIE7cE+83OD5LPzRM7pLbOhIXZBtc9M147ZMK6YldRWFaIMk+fZtSehrDNhJcr3aOEech1Pcchzv5y3QUrcwPK1gAnzw0fWQR+Lt6GRgZZpSbUlq5yFUs/x3/G5XV3yc5B7mnTiCMsN15TloJiOlcvNgH+2rNzkOt1NzdHwREI7yG9YRW2eY0mlHEWiSEmnAjYh7jNgNw8r7s5vvl7G/rg5zunDnV+PmqKnosBzx1zFseGEiNyS464iuXw4z/DXl+XYe3j8rqrG68pewv5Kb2mrDF7ntgE+Gs/V4da35ZRmLHryd2A50N1xGs0oXTKIxQFf79tPcRtYjEKzDm9GGmkNNJzuTXDXl+XYe1SX/fg8ZqyFJzsHOTWHcZrrmMNlUWuD3Z2jmeODpixa+fRoeH2raja4/WbUvmUJzfH6DUFMeCxNUYc2Ok6yOjTp7P4+G4z4qkC93TJH6E/V6Eb9WCqz8/1z1h40DmFCWRcXneXc3WozTNG4VkuJxaUsZS5AWf2zsO2xa4h/+ktaHhxiat9OQ5sdA2b4WofRW6O0XW2AXiuePnQdOKNFagIcHxiJMaC1cChY575vrGw3Hmg0pAPzRs5Pr99C150HcQ05EOz8SjW7T2I54YdN/FlLDyIijzXYwybcWBNuacQyH4uPsbxda984yjWPTp6n2oVki8HWiwWZGRkiM0+lPYnOw63kJ+avhxYWZSP/Y/WYL/n1LFL4z7MX3wYTx0fvXD4qCqBZmcOGqJxLUrjPsx/EqhQ8Ny9vxwY7P43EtlxCPLzwRFKlCt4sRzY6DxT4r1mRLN4NxYqGIV4qyxyjV7cZ4Oiihm7njyMp16Jxuc+hCOUW8hPTSMUGh8coRARjYIFhYik4UrZW8hP8UpZohFwpSwR0Qi4UvYW8lO6UpZoJFwpS0Q0AhYUIpKGBYWIpGFBISJpWFCISBoWFCKShgWFiKThStlbyI8rZUkGrpQlIhoBV8reQn5cKUsycKUsEdEIWFCISBoWFCKShgWFiKRhQSEiaVhQiEgaFhQikoYFhYik0VgsFp+/y2O32wEAsbGx3s3DKI0DAKvVCr1eLzb7UNqf7DjcQn69Z8vQU18mhhAFJX7uNiTM2xb0/jcS2XEI8vMRkj/01dzcjPT0dLHZh9L+ZMeB+fmlNA4B8tNoNPDetZT2JzsOAfITKe1PdhxUll9IpjxCzQo7zO/2ML/bo6b8QlJQiCg6sKAQkTQsKEQkDQsKEUnDgkJE0rCgEJE0GpvNNubrUFpaWpCWliY2+1Dan+w4MD+/lMYhQH46nQ42m81zX2l/suMQID+R0v5kx0Fl+XGEQkTShGSlrMViQUZGhtjsQ2l/suPA/PxSGocA+YXTSll/+YmU9ic7DirLjyMUIpKGBYWIpGFBISJpWFCISBoWFCKShgWFiKRhQSEiabhSlvn5pTQOAfLjSlllcVBZfhyhEJE0XCnL/PxSGocA+XGlrLI4qCw/jlCISBoWFCKShgWFiKRhQSEiaVhQiEgaFhQikoYFhYik4UpZ5ueX0jgEyI8rZZXFQWX5cYRCRNJwpSzz80tpHALkx5WyyuKgsvw4QiEpdu3ahfj4eJSXl/u0l5eXIy4uDi+88IJPO6kTCwpJsWnTJjgcDhQXFyMlJQUAkJKSguLiYmg0Gjz99NPiQ0iFWFBIiqSkJBQWFkKr1aKjowMA0NHRgZ6eHhQXFyMpKUl8CKkQCwpJs2PHDs9c2i0+Ph5bt271aSP1YkEhaZKSkvDMM8/4jEaef/55jk6iCAsKSeU9SklISODoJMqwoJBU7lGKTqfD9u3bOTqJMiwoJN2OHTvw+OOPc3QShTQWi8VnYZvdbgcAxMbGejcPozQOAKxWK/R6vdjsQ2l/suMAoP2NkRftEIWL1EctYpMPpfu90jgE+fkNyUrZ5uZmpKeni80+lPYnOw4A6v5Dg5yVNWIzUVipq8hHztM+H9dhlO73SuMQ5Oc3JFMeoWYRUQQJ5vMbkoJCRNGBBYWIpGFBISJpWFCISBoWFCKShgWFiKThNWUBnH9Vx3UoFPbqKvIx54mh6/T6o3S/VxqHID+/HKEQkTQhWSkbzDUpR+tPdhy4UpYixHitlA3m88sRChFJw4JCRNKwoBCRNCwoRCQNCwoRScOCQkTSsKAQkTRcKcuVshQhuFKWiKIKV8pypSxFCK6UJaKowoISgSqL8jF/j1lsjhqVRflYXyW23r5of11lYEGhyFJVgpUox/5l4gYKBywo48qMXUu9f9s677t/S5r2rIXGkO+6rcWuRu/Hujkf447z9FVVAs3StZhvyIdm6T6YqkqgWboPu4rcsSWo9Oql0tMu/JauKvHKwesxgdoD5aP4+YzEjF0761G2dclQU+M+53N0P093u3d+Xu2VRfmYX1Qy7DGmPWux8hBQW7rK9fx9n4dP3xQQC8q4MuCxNUYceKPadd+EE3VGPFVgAKpKkFU6DxXmGjjMNahYY8K2n7jjhlQWrcI2bEGDuQaOvctxYKPXB7UOeOp4DRzHNsAIAHW78XLOEVd/R7GyyNmfac9arDzt6uP4FqB0lasQVGP9xnqUHXfm0FBSj217zCO0j5BPwOcjfHBH+gA3HsPLWI3HMt0N1Vi/+LDzOZprUJG3Gyv3mJ1FZuNRrNtbA4f5CMqwG1mu5woAtYeAMtdzza3bjZIqwFh4EBVrgNySIzhTaHA+j7xyOMw1cJjLsc4VRyNjQRlnxux5wKE3nb/hq97EgRzXB2ZZKRzmUhS44nJzjL4PBACYUXsaWFfsKhjLClGWY8LLle4Rxjzkej58ALAcZYUGAEDB1i3IPfQmKmHGa4dMyF2z1NlH5gaUrQFOnht+LMFYeBBnXI/33z5CPgGfjwHPHXMWBJ+buwh6O1eH2jzjULv36wWg4MUaZx7n6lCbswWly+Dsv3j50GsMAGtWOPPIXIqnctyNvgperIHjRfdIyIhFAeLIFwvKeFu2AutQj9pGoPKNo0MfbOE3d1bpsN/XrhGN930DcvO87ubkINfr7rD7XmpLV3l+1spDQG2dCcAS7D++Gi8vFkcNgdpHykfJ8xmZ6Vz9iPfdhrVn+z5v/8VZ4D2VMqzCNp/nRYHEDAwMYKxvg4ODw9rC6Ta+lmD9GhNerqxG7WnXdAeAac/moamDuQYNJf4+BOJvTucIIaC6OtS6/3/O6/+Aa3rgdXP/ds7cgDPuHNYcHpo6+G0PnE/g56N8ymPMnjfifbdh7cJzHZ0Zu57cDZQ4p4cO8xGUhckIRdx3Q3EL5vPLEUoYKHh0OWpLN2Obz/EBb9Uo8fsb3TkCOLDT9eGr2oNt7mMwfh3FftdxgMo3jrqG/q7jOO4+UI317gOzjfswXzh4m5tjDNyuOB/v5xPElCc7B7mnTUOFJjsHuXWH8ZrrmFFlUT40RdWudvcxDzN27XQ/11tUtYcjFIVitFotxvoWExMzrC2cbuNu2QqsA7ymO4CxcAvW1e1GliEfGsObWL93OeD9YXIpeNF10NGQD83Go1i39yCe81uUAOQsB3a6pjWnt6DBNQoxFh5ERZ77Z23GgTXlzmMRmRtQUVKPle5pyqHVqBipfYR8lD6fEWUuxVMYKiDI3IAze+dhm2vq5XlOmRtwZu9yHNjomq5g6LmOJDfH6DrLAzxXvHxoGvjGClQEOK4UauK+G4pbMJ9fLr2PlqX3VSXQ7MxBg7/f/JGkqgSaN1Z4HTCNHlx6TyTbslJUYPOYrJSl28eCEi2Wlfo/LhGBCl6s4UrZMMWCQkTSsKAQkTQsKEQkDQsKAUq/uu9n/YlfVSXO9SA+zNi19Fa+EEiRhAWFAO/vwcjg70xM4zG8XCd+t4jURmOxWHxObNvtdgBAbGysd/MwSuMAwGq1Qq/Xi80+lPYnOw4A2t/IiJh1KJVF+dj/qHiWoxrrDZtxAADWLMe6Q/VYdNy1wK2qBJqNR51hOVs861Aqi/Kx7bQRtXUm5JYcQVndKmzLcX7T1jmaGPr+yrq9Ndi/zOtnYDkqzKUo8P65ALCmfGh9SOM+zH8SqHCfWfKsHzFi19JVOLFmC06W7kYthr7hC3ecn3zRuA/zFzvjASPK3M8vULvrOa485Py/z88YKe8wVleRj9RHLWKzD6X7vdI4BPn5DcnCtubmZqSnp4vNPpT2JzsOEbawzV9BqSzKx0o4PxSmPWuRVQrnBwvOD9vCvTXYv8xVJPKccZVFrpWl3gXGVVC8+3N+wOu9+qtDmbkUBa6i8/Ia1we1cR/mLz6MpzwfaDN2Ld0MvOK8P5S3u1i5ipL34+Ddh3e+riJU7HreYnEa1u5+HeZ5/Qzf1yFw3uFrvBa2BfP5DcmUR6hZFDTn92vc3wR2Lil3f4GuGvsPGT0XHTIWbsE698NG+xq/96UAPKqx/xCw7lHXb2zXJQhOnBPjnN/B8fzWzzRiobA9N8/9OGeOi7KHtuaWFLouIbABZWuclzgwVR5GredyBK58/S3PX1bqf0Th1e4ceXn/DLiuOzNa3iQK5vMbkoJCt2sJ9ru+NFexxuubwcc2wNhowkkx3OV2vsbvKVqur+77/R6Lz1XbvKYQokYTTnpdtwQAFmYHOF7j+b6P87tAzm9IG/DcsXLAk5P7wHCg9uHfuvZ5rkrzpqCxoES6EX7D3vrX+I2eq7G5b8MP2FZjveeqaDXOq5oJEW6mysOA1xcfAe8CJXz417ivkua+uS/KNFRUHXuBld7XZhnWLlwXxjVicVKeNwWPBSXCDF927ryeivvykKY9u4d+497S1/h9+3NfaGi07874/FzAVSiMWJTtvCKcOCKpPXTMWRAaj+Fl1yUOjAWrkXtot+fUcmXR0LRuvXgN2jwjjAHb3d8c3uMcsTTuwzbvaZyX4XnT7WBBUYGCF8ux7tBm5zEWrB76jXuLX+MvePEIyk47+9Msdl5oaP8y92joKFYaSlCJJSgtMXqmRiuxxfdYi+f6ryacqFuO9cJ3b9bl1TmnNot3Y6H7kgvi5QgOLXedJVqC/V7tmo1AxYtLnKMTv+3ua8QedV5iwfs5jJY33ZaQnOUJ5uvPo/UnOw4RdpZnVFUlzg+W1/VblfA+yyODv7NRTs6zLJ4zM6TYeJ3lCebzyxFKxBMuobixHmXHgykmzjNIKw8NXcD6tvFv50Qtjc1mG/MRSjB/vX20/mTHAcD5V3XqGaGQatVV5GPOEzax2YfS/V5pHIL8/HKEQkTS8BiK2o6hkGrxGAoRRRUWFCKShgWFiKRhQSEiaVhQiEgaFhQikoYFhYik4UpZrpSlCMGVskQUVbhSlitlKUJwpSwRRRUWFCKShgWFiKRhQSEiaVhQiEgaFhQikoYFhYik4UpZrpSlCBEJK2VZUFwFhSgShH1B4UpZ5ueP0jgEyE+j0fj8kW2l/cmOQ4D8REr7kx0HleXHYyhEJA0LChFJw4JCRNKwoBCRNCwoRCQNCwoRScOCQkTSsKAQkTQai8Xis7DNbrcDAGJjY72bh1EaBwBWqxV6vV5s9qG0P9lxYH5+KY1DgPwyMjJgsVg895X2JzsOAfITKe1PdhxUll9IVso2NzcjPT1dbPahtD/ZcWB+fimNQ4D8wmmlrL/8REr7kx0HleUXkimPULPCDvO7Pczv9qgpv5AUFCKKDiwoRCQNCwoRScOCQkTSsKAQkTQsKEQkDS8Byfz8UhqHAPnpdDrYbEOXK1Tan+w4BMhPpLQ/2XFQWX4coRCRNCFZKRvMNSlH6092HJifX0rjECC/cFop6y8/kdL+ZMdBZflxhEJE0rCgEJE0LChEJA0LChFJw4JCRNKwoBCRNCwoRCQNV8oyP7+UxiFAflwpqywOKsuPIxQikoYrZZmfX0rjECA/rpRVFgeV5ccRChFJw4JCRNKwoBCRNCwoRCQNCwoRScOCQkTSsKAQkTRcKcv8/FIahwD5caWssjioLD+OUIhIGq6UZX5+KY1DgPy4UlZZHFSWH0coJMWuXbsQHx+P8vJyn/by8nLExcXhhRde8GkndWJBISk2bdoEh8OB4uJipKSkAABSUlJQXFwMjUaDp59+WnwIqRALCkmRlJSEwsJCaLVadHR0AAA6OjrQ09OD4uJiJCUliQ8hFWJBIWl27NjhmUu7xcfHY+vWrT5tpF4sKCRNUlISnnnmGZ/RyPPPP8/RSRRhQSGpvEcpCQkJHJ1EGRYUkso9StHpdNi+fTtHJ1GGBYWk27FjBx5//HGOTqKQxmKx+Cxss9vtAIDY2Fjv5mGUxgGA1WqFXq8Xm30o7U92HEKUn/X4V2G7/kefNlIP3ZTPQr/4dc/9QPuBP6HY/0RK4xBkfiFZKdvc3Iz09HSx2YfS/mTHIUT51f2HBjkra3zaSD3qKvKR83TwK4MRov1PpDQOQeYXkimPULPCTrjnR+oW7vtfMPmFpKAQUXRgQSEiaVhQiEgaFhQikoYFhYikYUEhIml4TdkQ5Xf+VR3XoahYXUU+5jwR/DV0EaL9T6Q0DkHmxxEKEUkTkpWywVyTcrT+ZMchRPlxpay63c5K2VDsfyKlcQgyP45QQiRx2oNiE5HqsKCESPe1D8QmItVhQSEiaVhQiEgaFhQikoYFhYikYUEhImm4UjZE+XGlrLpxpSzXoRCRZFwpG6L8uFJW3bhSliMUIpKMBYXkqyqBZuk+mABUFuVj/h6zGDGKaqw35GN9ldhO4Y4FhYikYUGJSmbsWpqP+UvXQuMZCTjbNAbnzXt0UFk01K4pqnY2Nu7DfEMJKt1BXqMSt8t71mLlIaC2dJVnlGLa4/yZztta7Gp0R3v9/KI3vXpx/yz3Y7x+JoUdFpQoVpu3BQ5zDfYvAyqLVmFbXjkc5ho49i7HgY2uD3tVCVae3oIGcw0c5iMoO73bqwiMbFbhQVSsAXJLjuBMoQGoKkFW6TxUmGvgMNegYo0J237iLFCVRauwDa6f8yhwwNNLNdYv3g2UHHE95ihWCoWLwgcLShTLzTG6/leN/YeAdY8ucd5dVoiyHBNOnPOOBgADnjt2EM9liu0KLSuFw1yKAtfdoZ9vRu1pYF3xBhjh/vmuTY0mnMRylBUaAAAFW7cgt+4wXlNY1Ci0WFCi2MJs54fU7cBG97RiFbbVASfPmYFlpWhYcxhZrilH8AdYvflOq7JK3eMME07UCaFu5+pQ630/04iF3vcprMQMDAxgrG+Dg4PD2sLpFor8wp8RZcedUxH37YxrVGAsPOhqO4KnDq3ye/bFdK5ebBrGtGfz0LTGXIOGEvcIxYhF7hGJKDsHud73G0046X0/jIjvudJbKPa/27kFkx9HKARgCdZ7Hc9wHwRdX+U6iOo+EAs4P/zZ7v8fxX7XAd3XDgV7VKMaJZ4RigGPrTHiwE7XsZGqPdjmHrFkGrEQR7HNNTKq/Mlu1OasxmO3Ou2iMRWj1Wox1reYmJhhbeF0C0V+4a7gxSMoO73ZOR1xHQTdvwwwFpYPtRtW4eU15c5jKJkbUFFidE2TNgNrlotdAq7jJO6zPMbCLVhXt9s1fXoT6/cuB06bYILr58C1bWcOyta4e1iC/ce3AKWroDHkY+Wh5ag45jrWEmbE91zpLRT73+3cgsmPS+9DlB+X3qsbl95z6T0RScaCQkTSsKAQkTQsKEQkDQsKEUnDgkJE0rCgEJE0GovF4rMOxW63AwBiY2O9m4dRGgcAVqsVer1ebPahtD/ZcQhRfu1vZHAdiorVVeQj9VGL536g/cCfUOx/IqVxCDK/kCxsa25uRnp6utjsQ2l/suMQovy4sE3dbmdhWyj2P5HSOASZX0imPELNCjvhnh+pW7jvf8HkF5KCQkTRgQWFiKRhQSEiaVhQiEgaFhQikoYFhYik0dhstjFfhxLMX28frT/ZcQhRfudf1XEdiorVVeRjzhM2z/1A+4E/odj/RErjEGR+HKEQkTQhWSkbzCXkRutPdhxClB9Xyqrb7ayUDcX+J1IahyDz4wiFiKRhQSEiaVhQiEgaFhQikoYFhYik4VmeEOXHszxyDA50o6/rPPpvXoSt24yB3hYM9N/A4MBNDA72Aw47oIlFTMwExOj00OomQRufBl2iARMmzkZc0hzEaBPFbm8bz/I4+2NBCVF+LCi3ZqC3BTdb/4SethPo6TiD/puXEJdyFyYkZ0ObdCcmJM2CNnE6YiakIEabAGhiAYcdgwM9GOy/gYHea+hsPgPdQBP6Os+hr/00JkychYSUu5GQeg8mTr0P2viRF20pwYLiKihcKRua/LhSVrl+60V0WY7B2vx79HdfQWLGF5CQ8UXEZXwOcZMXACO8zv6I729f2yn0tvwRPU3H0NP0O+gm3oGktM8jKWMpJuhn+zxWKa6UdfbHYygUNjouH8GlD7+Dix9+BzaNHZMf2AXjumtIX3oIyfP/1lNMblfc5AWYlPMsMv7qVzCuu4Yp9/8YfYN9uPjhs7j04XfQcfmI+BBSiFOeEOXHKY9/A32taG88iBuXXkNC+mIkzXkCE2d/ddjrJwr0OvsTzPvbc+UIOupfQU/LB0iZ9TWkZq6FNm6qGD4MpzwcodA4GuhtQcuZn+D828sxqNXijlXVmPnIbzBx9lfF0JBKynwMMx/5De549H0MarU4//ZytNTuxkBvixhKfrCgUEg57H24Vr8H5499BZiYjjnrzEj/3M8Ql5Irho6ruJRcpH/uZ5izzgwkTMb5Y1/BtXP/Doe9TwwlLywoFDI3Lv0aF979KuwxwJ1/04C0z/4E2sTpYlhY0SZOR9qD5bjzbxpghx0X3v0qblz6tRhGLiwoNOZ6O87g8oeF6Gh5DzOW/RoZD70M3S2eTRkvOv1sZDz0MjKWHkJny+9x+aO/RW/HGTEs6rGg0JhqPfdzXPrjs0icswEzVhxDQvoSMSSixKcthmHF76DP/iYu/fFZtJ77uRgS1VhQaEz0dp7FxT9uQl+fBcY1tZiU8x0xJKKlzi+EcU0t+vosuPjHTeLmqMWCEkLtl14Tm1Sp/eJBNP5hHZLnPYkZy16HTn+HGKIKOv0dmLHsdSTPexJTF/yjuDkqcaVsiPLra/sErX/8LrTaJKTlFEGXMPJ5/Uhk67Ggpe5FDAx0Yepnf4q4yfd4tgV6XUSy4xCi91ekNA4qy48jlBCJm3wPZhS8B13agzC993XVjVbaLx6E6b2vQ5f2IGYUvOdTTCh6cKXsOOTX21qDlg//ARjoxbTsp5GQGrkfvp72T9Bc/xJi45Iw7f6diJ+aL4YACl8XjEEcxuH9RRBxUFl+HKGMg/ip+TA88hb02d/C1ZP/C5bTO2HraRLDwpqtpwmW0ztx9eT/QsyMNZhVUBWwmFD0YEEZR8lzn8adf9OA2NQcXPjdarTU/RQDfa1iWFgZ6GtFS205LvxuNWJTc3Dn3zRgwh0bxDCKUiwo40yjTcC0/FLM+cYlICEV599ejuYzP0Gf1SSGjqs+qwnNdeU4//ZyIHEK5nzjEqbll0KjTRBDKYqxoIQJ7cQZSPvsC5izzoyYSVm49OGzuHJiO7osvxNDQ6rL8jtcOVmMSx9+BzFJszFnnRlpn30B2okzxFAiFpRwo02cjmn5P0D2hlYkZa9H+9UjOPf2cjSf2YXu1j+J4WPiZutHaP7Lj3H+nRVoN/8GSXMeR/aGa5iW/4Ow/+4NjS8WlDA2ae63ccdX3kPig7+Gdkoerl14BeeqHsbVU/+I9su/Rm9nvfiQW9LbWY/2iwdx9ZN/wrmqh9Ha8CpiJufBsOJ3uGPlu5g099viQ4j84mnjCMtv4OYV3DQfQ4/lPfQ0H0d/VwPikudhgt4IXeJ06OLTodUlI0arR0xsPKCJARyDGLT3YnDAioG+dtj6WzHQ04Q+ayP6OuowIelOJKQ/iISMhzDRsBTaiTNvOb9AlPYnOw7Mzy+lcQgyPxaUCM9v0NaFvvbT6G2rhc1qwmBPEwZ6r2Gwz3kleDjsQIwOMbEJiIlLQcyEqdBONCAu+U5MSJmHuNQ8xOiSxG6l5eemtD/ZcWB+fimNQ5D5aSwWi09BsdvtAIDY2Fjv5mGUxgGA1WqFXq8Xm30o7U92HJifX0rjECC/srIybNu2zXNfaX+y4xAgP5HS/mTHQWX5hWSE0tzcjPT0dLHZh9L+ZMeB+fmlNA4B8tNoNPDetZT2JzsOAfITKe1PdhxUll9IDsoKNSvsML/bw/xuj5ryC0lBIaLowIJCRNKwoBCRNCwoRCQNCwoRScOCQkTS8JqyzM8vpXEIkJ9Op4PNZvPcV9qf7DgEyE+ktD/ZcVBZfhyhEJE0IVkpG8x3AUbrT3YcmJ9fSuMQIL9wWinrLz+R0v5kx0Fl+XGEQkTSsKAQkTQsKEQkDQsKEUnDgkJE0rCgEJE0LChEJA1XyjI/v5TGIUB+XCmrLA4qy48jFCKShitlmZ9fSuMQID+ulFUWB5XlxxEKEUnDgkJE0rCgEJE0LChEJA0LChFJw4JCRNKwoBCRNFwpy/z8UhqHAPlxpayyOKgsP45QiEgarpRlfn4pjUOA/LhSVlkcVJYfRygkxa5duxAfH4/y8nKf9vLycsTFxeGFF17waSd1YkEhKTZt2gSHw4Hi4mKkpKQAAFJSUlBcXAyNRoOnn35afAipEAsKSZGUlITCwkJotVp0dHQAADo6OtDT04Pi4mIkJSWJDyEVYkEhaXbs2OGZS7vFx8dj69atPm2kXiwoJE1SUhKeeeYZn9HI888/z9FJFGFBIam8RykJCQkcnUQZFhSSyj1K0el02L59O0cnUYYFhaTbsWMHHn/8cY5OopDGYrH4LGyz2+0AgNjYWO/mYZTGAYDVaoVerxebfSjtT3YcmJ9fo8V1X2xEz9Ur6LNY0NPUhMGuTtisXbD39GDQZoNjcBCamBjE6HSITUiAVq+HLiUVcWnpiMvIQMKMmUicnSl2O+rPdVMahzB9/bypKb+QrJRtbm5Genq62OxDaX+y48D8/BLjOk0NaD15Atc/OYUbZ+uRmJYGfVo6Jk6ejITUVMQlT8KEiROhjY9HjFYLTUwMHIODGBwYwEBvL/pv3kRfZwd62ttxs60N1pZmdLe0IGXuPEy5ZwGmLlyEZGPWsJ8biNI4hMnrNxI15ReSghLM0t3R+pMdB+bn18DAALqbmtDyQTUs7/8BjgEbJmfdidTZmUi54w7ETpggPiRo9v5+3Lh0Ce0XG9HWcAEarQ5pi5cgY8nnkTxrlhjuQ+nzwDi+flAQB5Xlx4LC/IZpPXUSlyp/gxtn65GR9xlMy81FsmGGGCZdp/kqWmpr0Xz6z0idl4NZK1Zi6oKFYhig8Hm4hfr1QxBxUFl+LCjMz+PaiRqYfv0/GOjshGHBQkwP8GEOhaZTJ2E+dRLa5GQYv/bXmLYo32f7SM9DFKrXz5vSOKgsP57lIXRdbMTJnaU4+4tXkDE3B/c+8eS4FhMAmL5gIe594klkzM3B2V+8gpM7S9F1sVEMozDDghLlzv/qv/Hh97YjefJk5D/5FNLz8sSQcZWel4f8J59C8uTJ+PB723H+V/8thlAYYUGJUp0NDfjj83+PrtozuH/Ts5h5/wNiSFiZef8DuH/Ts+iqPePM29QghlAYYEGJQuZj7+CD7c8hPXsu5q9ajbjkZDEkLMUlJ2P+qtVIz87GR9/bDvOxd8QQGme8pmyU5Xf2P/ei7UQNclasRNL06eLmiNHV1IS6NyswNf9+zFn/TXGzD5mvn+w4qCw/jlCiyF9+uhvdF85j0YZvRXQxAYCk6dOxaMO3YD1/Fn/56W5xM40TnjaOkvxO7ixF7OAg5hWsFDdFvPrKCthjYrCwuETcBEh6/dxkx0Fl+XGEEgVO7iyFVqNRZTEBgHkFK6HVaHByZ6m4iUKMBUXlPt29C7GDg5j7yHJxk6rMfWQ5YgcH8enuXeImCiEWFBU7+5+vwna9VbUjE9G8gpWwXW/F2f98VdxEIcKColJX3qnCtY8+Qu5XVombVC33K6tw7aOPcOWdKnEThQALigp1NjTgLz/bg3krCqR8KziSxE6YgHkrCvCXn+1BZwMXv4UaC4oKnXnp3zB3+YqIPzV8q5KmT8fc5QU489K/iZtojLGgqMz5X/034hISYFh0r7gpqhgWLUJcQgK/+xNiXCmrovysly7i1D9/H/dvejZiltOPpb7OTnz00s+QtWUb7lg48renlb4fsuMQxPsLBf3JjkOQ+XGEoiIXD/4fGB/6AouJS1xyMowPfQEtlW+Im2iMcKWsSvKz/OkjnP/lL3Dfk/wbwqKPXv45cp58ethFmrwpfT9kx0Hh+6u0P9lxCDI/jlBU4uLhX+OO+z8rNhOA2Q88CNOv/0dspjHAgqICradOYqCrM+wujhQu0vPyMNDZidZTJ8VNJBkLigpcfrMCM8b5ko3hzrBgIS6/WSE2k2QsKBGuu8mM9vq6cb8GbLibvmAh2uvr0N1kFjeRRCwoEc78h/eQkfcZsZn8yMj7DMx/eE9sJolYUCKc5f0/YFpurthMfkzLzYXl/T+IzSQRC0oE6zQ1wDFgC8kf4VKDZMMMOAZs6OQFrscMV8pGcH6Nr7+GvkYT5nzpYXETBXD+nbcRl2lE5lcf82lX+n7IjsMI7683pf3JjkOQ+XGEEsHaPv0EqbMzxWYaQersTLR9+onYTJJwpWwE51f1+Fos2bI16i5RcDvs/f2o3v0TLPuvgz7tSt8P2XEY4f31prQ/2XEIMj+OUCJUx/nzSExLYzEJUuyECUhMS0PH+fPiJpKABSVCdV00QZ+WLjaTAvq0dHRdNInNJAELSoS6efkyJk6eLDaTAhMnT8bNy5fFZpKABSVCdTeZkZCaKjaH1NF/zEf8onzEf30P/unr+XgiQtaMJaSmcsXsGGFBiVC9168jLnmS2BxCZtTVG/HDwzXo/VUh/vlXNXj1ITEmPMUlT0Lv9etiM0nAghKh+js7MGHiRLE5RMzY/fVVeP68Cc+vzscT75mx2z1CubwPCxaVYPcv1zpHL4vWYvflajyxyDWa+cdqsbOQmzBxIvo7O8RmkoAFJULZunugjY8Xm0PEgC2/OoIfzgG+sdvfyOQoXkU5ek/U4PWVJjy/ejcWHK5B7+EtyKnYjd3jfPhCGx8PW3eP2EwSsKBEqEFbP2IUrCEYH0Y88VcGAEBOthFYuQVbZgGYZcQCMXQcxGi1GLT1i80kgcZisfgsbLPb7QCA2NhY7+ZhlMYBgNVqhV6vF5t9KO1PdhwiNL9Tf/ssvvg9/38cPDSc055Tf1uDVx/y+r9xHxasrsMPT5RiOYDGX65Fzrkt6P3BEgDVeGLRbiw4fNBZYMbRu/9SigX//88895W+H7LjEOD9FSntT3YcgswvJCtlm5ubkZ4+8poJpf3JjkOE5vfW3/w1HvqH56GJGa9BZuQWFMfgIN771x/iy/9n6LKQSt8P2XEI8P6KlPYnOw5B5heSvVGoWWEnEvOL0U3AoOtNpOAMDgwgRhc+K4z9vb/hJJj8QlJQSD5dYgIGenvFZlJgoLcXusQEsZkkCMmUJ5gvF43Wn+w4RGh+H2z7O2Qv/VLU/rnR29HV1IRzx97Bg2UveNqUvh+y4xDg/RUp7U92HILMjyOUCBU/ZQr6uJbilvR1diB+yhSxmSRgQYlQidMN6GlvF5tJgZ72diROd57WJrlYUCLUxFmzcLOtTWwmBW62tWHirHE8zaRiLCgRKmm2EdaWZrGZFLC2NCNptlFsJgl4TdkIzu9333ycV2wLkvuKbX/1n//l0670/ZAdhxHeX29K+5MdhyDz4wglgk3Knosbly6JzTSCG5cuYVL2XLGZJOFp4wjOr+G1Q+hpuMCr3gfh/DtvIyHrTmQ9tsanXen7ITsOI7y/3pT2JzsOQebHEUoEm7pwEdoaLojNNIK2hguYunCR2EySsKBEsGRjFjRaHTrNV8VN5Een+So0Wh2SjVniJpKEBSXCZXzu87hWWys2kx/XamuR8bnPi80kEQtKhDN8/iFYTv9ZbCY/LKf/DMPnh10NiiRiQYlwidMNSJ2Xg6ZTJ8VN5KXp1EmkzsvhCtkxxoKiArNWrMRVFpQRmU+dxKwVK8VmkowFRQWmLlgIbVIymk+fFjcRgObTp6FNTsbUBQvFTSQZV8qqJL/mmj/BtP+XuO/Jp8VNUe+jl3+O7I1Pjni6WOn7ITsOCt9fpf3JjkOQ+XGEohJTFixEQsZ0XPnoQ3FTVLvy0YfQTUsbsZiQPFwpq6L8rBcvoub738P9m55FXHKyGBJ1+jo78dFLP8OdW/8exnvzxc0+lL4fsuMQxPsLBf3JjkOQ+XGEoiL62bORufpruPDu78RNUenCu79D5uqvIWHGTHETjREWFJWZ8/VvoK+nB+YTJ8RNUcV84mP09fRgzte/IW6iMcSCokLzN30HZ49WoqupSdwUFbqamnD26JuYv+k74iYaYywoKpSclYW7ni1E/ZuVsPdH11/Is/f3o/7NStz1bCGSs/idnVBjQVGpmV9ahmn334/a3xwRN6la7W+OYNr992Pml5aJmygEWFBUbO43n4BuylTUV1aIm1SpvrICuilTMfebT4ibKERYUFTu7i3PwR4Tg7O/PSpuUpWzvz0Ke0wM7t7ynLiJQogrZaMkv0//dSdiHQ7kFKjv+yx1lRWwazS4+x+KxU2ApNfPTXYcVJYfRyhR4u5/KAYSE/Hn/zmkmgO19v5+/Pm1Q0BiYsBiQqHFlbJRll/d3l/ges2fMG9FQUT/GdOupibUv1mJafffP+oxE5mvn+w4qCw/jlCizJz138SsR1fj41+8DPOJj8XNEcF84gQ+/sXLmPXo6lGLCYUWC0oUMiz9Eh780S40nzuHM0cOo6+zUwwJS32dnThz5DCaz53F/f/yIxiWfkkMoXHGghKlkrOy8Nkf/hhJufPx0Us/C/tvKV/56EN89NLPkJQ735k3LzQdllhQotycr38DD/zLj9DZ1oaaV14Ou4s0NZ8+jZpXXkZnWxse+Jcf8bs5YY4FhZA0OxMLi0sw99tPwnK2Dh+/+sq4X6O26dRJfPzqK7CcrcPcbz+JhcUlSJqdKYZRmGFBIY9pi/Jx/w92Yu63n0ZbUxOqy1/AhXfeDtnf/ek0X8X5d95GdfkLaLdYMPfbT+P+H+zEtEUjX8uEwgdPGzM/vwYGBtDd1ISWD6phef8PcAzYMDnrTqTOzkTKHXdI+QPt9v5+3Lh0Ce0XG9HWcAEarQ5pi5cgY8nnkTxrlhjuQ+nzwDi+flAQB5Xlx4LC/PwS4zpNDWg9eQLXPzmFG2frkZiWBn1aOiZOnoyE1FTEJU/ChIkToY2PR4xWC01MDByDgxgcGMBAby/6b95EX2cHetrbcbOtDdaWZnS3tCBl7jxMuWcBpi5chGRj1rCfG4jSOITJ6zcSNeWnsVgsPgXFbrcDAGJjY72bh1EaBwBWqxV6vV5s9qG0P9lxYH5+jRbXfbERPVevoM9iQU9TEwa7OmGzdsHe04NBmw2OwUFoYmIQo9MhNiEBWr0eupRUxKWlIy4jAwkzZiLRzzGR0X6um9I4hOnr501N+YVkhNLc3Iz09HSx2YfS/mTHgfn5pTQOzM8vpXFQWX4hOSgr1Kyww/xuD/O7PWrKLyQFhYiiAwsKEUnDgkJE0rCgEJE0LChEJA0LChFJw2vKMj+/lMaB+fmlNA4qy48jFCKSJiQrZYP5LsBo/cmOA/PzS2kcmJ9fSuOgsvw4QiEiaVhQiEia/wsEHmfDr+tI7gAAAABJRU5ErkJggg==)"
      ],
      "metadata": {
        "id": "d6cv30NQEuRL"
      }
    },
    {
      "cell_type": "code",
      "source": [
        "#entrada\n",
        "pessoa = int(input(\"Digite o valor de pessoas\"))\n",
        "gorjeta = int(input(\"Digite o valor da gorjeta\"))\n",
        "conta = int(input(\"Digite o valor da conta\"))\n",
        "#processamento\n",
        "gorjeta = (conta*10/100)\n",
        "conta = (gorjeta + conta)\n",
        "valorpessoa = (conta + gorjeta)/pessoa\n",
        "#saida\n",
        "print(f\"O resultado é: {valorpessoa}\")"
      ],
      "metadata": {
        "id": "GZFq93dWEuDL",
        "colab": {
          "base_uri": "https://localhost:8080/"
        },
        "outputId": "3bea928a-971d-40e5-93f0-739c5234fea6"
      },
      "execution_count": null,
      "outputs": [
        {
          "output_type": "stream",
          "name": "stdout",
          "text": [
            "Digite o valor de pessoas6\n",
            "Digite o valor da gorjeta26\n",
            "Digite o valor da conta350\n",
            "O resultado é: 70.0\n"
          ]
        }
      ]
    }
  ]
}