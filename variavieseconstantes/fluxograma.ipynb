{
  "nbformat": 4,
  "nbformat_minor": 0,
  "metadata": {
    "colab": {
      "provenance": [],
      "name": "variavieseconstantes/fluxograma.ipynb",
      "authorship_tag": "ABX9TyPgKG2zy9EUp78shFlbabEd",
      "include_colab_link": true
    },
    "kernelspec": {
      "name": "python3",
      "display_name": "Python 3"
    },
    "language_info": {
      "name": "python"
    }
  },
  "cells": [
    {
      "cell_type": "markdown",
      "metadata": {
        "id": "view-in-github",
        "colab_type": "text"
      },
      "source": [
        "<a href=\"https://colab.research.google.com/github/juli1F/PA2025/blob/main/variavieseconstantes/fluxograma.ipynb\" target=\"_parent\"><img src=\"https://colab.research.google.com/assets/colab-badge.svg\" alt=\"Open In Colab\"/></a>"
      ]
    },
    {
      "cell_type": "markdown",
      "source": [
        "#variáveis e constantes"
      ],
      "metadata": {
        "id": "Pcyb3UT5gRDW"
      }
    },
    {
      "cell_type": "code",
      "execution_count": null,
      "metadata": {
        "id": "V7R_iqgWf_v6"
      },
      "outputs": [],
      "source": [
        "idade = 14\n",
        "altura = 1.57\n",
        "nome = \"Juliana Barbosa\"\n",
        "vai = True"
      ]
    },
    {
      "cell_type": "code",
      "source": [
        "nomes = [\"Victoria Nunes\",\"Mariana\",\"Beatriz\"]\n",
        "nomes2 = (\"Victoria Nunes\",\"Mariana\",\"Beatriz\")\n",
        "tudo = {nome:\"Cínta Pinho\",idade:42,altura:1.52,vai:True}"
      ],
      "metadata": {
        "id": "esIIba3biZpb"
      },
      "execution_count": null,
      "outputs": []
    },
    {
      "cell_type": "code",
      "source": [
        "print(nome)\n",
        "print(nomes)\n",
        "print(nomes2)"
      ],
      "metadata": {
        "colab": {
          "base_uri": "https://localhost:8080/"
        },
        "id": "sm-4A0D2jO_k",
        "outputId": "40f47250-5a44-42e3-d231-fedccd434219"
      },
      "execution_count": null,
      "outputs": [
        {
          "output_type": "stream",
          "name": "stdout",
          "text": [
            "Juliana Barbosa\n",
            "['Victoria Nunes', 'Mariana', 'Beatriz']\n",
            "('Victoria Nunes', 'Mariana', 'Beatriz')\n"
          ]
        }
      ]
    },
    {
      "cell_type": "code",
      "source": [],
      "metadata": {
        "id": "F7eXrMUCpM64"
      },
      "execution_count": null,
      "outputs": []
    },
    {
      "cell_type": "code",
      "source": [
        "print(type(idade))\n",
        "print(type(altura))\n",
        "print(type(vai))\n",
        "print(type(nome))\n",
        "print(type(nomes))\n",
        "print(type(nomes2))\n",
        "print(type(tudo))"
      ],
      "metadata": {
        "colab": {
          "base_uri": "https://localhost:8080/"
        },
        "id": "NWSRgmUykQWJ",
        "outputId": "6e47ce7b-9ecb-429d-f270-4375cfe0ccda"
      },
      "execution_count": null,
      "outputs": [
        {
          "output_type": "stream",
          "name": "stdout",
          "text": [
            "<class 'int'>\n",
            "<class 'float'>\n",
            "<class 'bool'>\n",
            "<class 'str'>\n",
            "<class 'list'>\n",
            "<class 'tuple'>\n",
            "<class 'dict'>\n"
          ]
        }
      ]
    },
    {
      "cell_type": "code",
      "source": [
        "print(\"o nome dela é:\", nome, \",sua idade é\", idade, \",ela tem \", altura, \"metros\")"
      ],
      "metadata": {
        "colab": {
          "base_uri": "https://localhost:8080/"
        },
        "id": "1bEdMH3_mvt_",
        "outputId": "11ad7381-9b76-4189-da52-fd116fadd5da"
      },
      "execution_count": null,
      "outputs": [
        {
          "output_type": "stream",
          "name": "stdout",
          "text": [
            "o nome dela é: Juliana Barbosa ,sua idade é 14 ,ela tem  1.57 metros\n"
          ]
        }
      ]
    },
    {
      "cell_type": "code",
      "source": [
        "nome = \"Ana\"\n",
        "idade = 25\n",
        "print(f\"Nome: {nome}, Idade: {idade}\")\n"
      ],
      "metadata": {
        "colab": {
          "base_uri": "https://localhost:8080/"
        },
        "id": "IXEE9C1nr23W",
        "outputId": "d017ff8c-aca9-4ee3-e484-463ebef530a4"
      },
      "execution_count": null,
      "outputs": [
        {
          "output_type": "stream",
          "name": "stdout",
          "text": [
            "Nome: Ana, Idade: 25\n"
          ]
        }
      ]
    },
    {
      "cell_type": "markdown",
      "source": [
        "#Area do circulo"
      ],
      "metadata": {
        "id": "pgt5MVPxvdic"
      }
    },
    {
      "cell_type": "code",
      "source": [
        "PI = 3.14159\n",
        "raio= float(input(\"Digite o valor do raio do círculo: \"))"
      ],
      "metadata": {
        "colab": {
          "base_uri": "https://localhost:8080/"
        },
        "id": "81X09luwvo-t",
        "outputId": "0a680615-e65a-4952-a502-6eb3d4ef90ec"
      },
      "execution_count": null,
      "outputs": [
        {
          "name": "stdout",
          "output_type": "stream",
          "text": [
            "Digite o valor do raio do círculo: 4\n"
          ]
        }
      ]
    },
    {
      "cell_type": "code",
      "source": [
        "areacir= PI * (raio**2)"
      ],
      "metadata": {
        "id": "-itvjFDpwH4Y"
      },
      "execution_count": null,
      "outputs": []
    },
    {
      "cell_type": "code",
      "source": [
        "print(f\"A área do circulo é {areacir}\")"
      ],
      "metadata": {
        "colab": {
          "base_uri": "https://localhost:8080/"
        },
        "id": "JbsTaPNGxP5-",
        "outputId": "01df51c6-9f97-45df-8270-af8aa773b86f"
      },
      "execution_count": null,
      "outputs": [
        {
          "output_type": "stream",
          "name": "stdout",
          "text": [
            "A área do circuo é 50.26544\n"
          ]
        }
      ]
    },
    {
      "cell_type": "markdown",
      "source": [
        "#area do quadrado"
      ],
      "metadata": {
        "id": "GN3DGL26zxlA"
      }
    },
    {
      "cell_type": "code",
      "source": [
        "lado = 4\n",
        "area = float(input(\"Digite o valor do lado do quadrado: \"))"
      ],
      "metadata": {
        "colab": {
          "base_uri": "https://localhost:8080/"
        },
        "id": "39dPv9Fcz19g",
        "outputId": "8fd9cfac-be79-4b5f-aad5-7c57cc4ef1de"
      },
      "execution_count": null,
      "outputs": [
        {
          "name": "stdout",
          "output_type": "stream",
          "text": [
            "Digite o valor do lado do quadrado: 6\n"
          ]
        }
      ]
    },
    {
      "cell_type": "code",
      "source": [
        "areaqua = (lado **2)"
      ],
      "metadata": {
        "id": "gAaPqrG30iaT"
      },
      "execution_count": null,
      "outputs": []
    },
    {
      "cell_type": "code",
      "source": [
        "print(f\"A area do quadrado é {areaqua}\")"
      ],
      "metadata": {
        "colab": {
          "base_uri": "https://localhost:8080/"
        },
        "id": "sWVhc54B1CXF",
        "outputId": "1581f187-04aa-4573-ea37-4cc828c945d2"
      },
      "execution_count": null,
      "outputs": [
        {
          "output_type": "stream",
          "name": "stdout",
          "text": [
            "A area do quadrado é 16\n"
          ]
        }
      ]
    },
    {
      "cell_type": "markdown",
      "source": [
        "#Exercícios\n"
      ],
      "metadata": {
        "id": "-PiQ0xx-pJtw"
      }
    },
    {
      "cell_type": "markdown",
      "source": [
        "## Exercício 1 - Área do Retângulo\n",
        "\n",
        "Crie um programa que calcule a área de um retângulo usando uma constante para representar a base.\n",
        "\n",
        " Fórmula: A = base × altura"
      ],
      "metadata": {
        "id": "-8e9q4oApwK-"
      }
    },
    {
      "cell_type": "code",
      "source": [
        "base = float(input(\"Digite o valor da base\"))\n",
        "altura = float(input(\"Digite o valor da altura\"))"
      ],
      "metadata": {
        "colab": {
          "base_uri": "https://localhost:8080/"
        },
        "id": "R2mHLsKSqwYl",
        "outputId": "db202c7a-1cd4-4dca-bf55-9c681e07663c"
      },
      "execution_count": null,
      "outputs": [
        {
          "name": "stdout",
          "output_type": "stream",
          "text": [
            "Digite o valor da base5\n",
            "Digite o valor da altura4\n"
          ]
        }
      ]
    },
    {
      "cell_type": "code",
      "source": [
        "areareta  = (base*altura)"
      ],
      "metadata": {
        "id": "rSvo49zJr8of"
      },
      "execution_count": null,
      "outputs": []
    },
    {
      "cell_type": "code",
      "source": [
        "print(f\"A area do retangulo é {areareta}\")"
      ],
      "metadata": {
        "colab": {
          "base_uri": "https://localhost:8080/"
        },
        "id": "tin8YXIjsfsz",
        "outputId": "0e27dcd0-1ad5-4c5b-e6c5-cf5714f4c664"
      },
      "execution_count": null,
      "outputs": [
        {
          "output_type": "stream",
          "name": "stdout",
          "text": [
            "A area do retangulo é 20.0\n"
          ]
        }
      ]
    },
    {
      "cell_type": "markdown",
      "source": [
        "##Exercício 2 – Perímetro do Círculo\n",
        "\n",
        "Crie um programa que calcule o perímetro de um círculo usando a constante π.\n",
        "\n",
        " Fórmula: P = 2 × π × r"
      ],
      "metadata": {
        "id": "skzIz65Ds5c5"
      }
    },
    {
      "cell_type": "code",
      "source": [
        "PI = 3.14159\n",
        "raio = float(input(\"Digite o valor do raio do circulo\"))"
      ],
      "metadata": {
        "colab": {
          "base_uri": "https://localhost:8080/"
        },
        "id": "9J_gpHsKtMJi",
        "outputId": "c2911246-bb9b-407a-857a-cfd3f298091f"
      },
      "execution_count": null,
      "outputs": [
        {
          "name": "stdout",
          "output_type": "stream",
          "text": [
            "Digite o valor do raio do circulo 6 \n"
          ]
        }
      ]
    },
    {
      "cell_type": "code",
      "source": [
        "areacir = PI * (raio**2)"
      ],
      "metadata": {
        "id": "NKojyBbQvhzV"
      },
      "execution_count": null,
      "outputs": []
    },
    {
      "cell_type": "code",
      "source": [
        "print(f\"A área do Circulo é: {areacir:.2f}\")"
      ],
      "metadata": {
        "colab": {
          "base_uri": "https://localhost:8080/"
        },
        "id": "fh1hzpLyvymW",
        "outputId": "249848c8-f0b1-48f1-ea17-2cda4559136a"
      },
      "execution_count": null,
      "outputs": [
        {
          "output_type": "stream",
          "name": "stdout",
          "text": [
            "A área do Circulo é: 113.10\n"
          ]
        }
      ]
    },
    {
      "cell_type": "markdown",
      "source": [
        "## Exercício 3 – Conversão de Temperatura\n",
        "\n",
        "Crie um programa que converta uma temperatura de Fahrenheit para Celsius.\n",
        "\n",
        " Fórmula: C = (F - 32) × 5/9"
      ],
      "metadata": {
        "id": "8kBAy5jexmol"
      }
    },
    {
      "cell_type": "code",
      "source": [
        "f = float(input(\"Digite a temperatura do fahrenheit\"))"
      ],
      "metadata": {
        "colab": {
          "base_uri": "https://localhost:8080/"
        },
        "id": "7TJTpNmCxsnT",
        "outputId": "fdea99bb-40fe-4eb1-a4ca-ce6f1b89f3e9"
      },
      "execution_count": null,
      "outputs": [
        {
          "name": "stdout",
          "output_type": "stream",
          "text": [
            "Digite a temperatura do fahrenheit90\n"
          ]
        }
      ]
    },
    {
      "cell_type": "code",
      "source": [
        "celsius = (f-32)*5/9"
      ],
      "metadata": {
        "id": "6FmUdCR1zRk7"
      },
      "execution_count": null,
      "outputs": []
    },
    {
      "cell_type": "code",
      "source": [
        "print(f\"A temperatura do fahrenheit é {celsius}\")"
      ],
      "metadata": {
        "colab": {
          "base_uri": "https://localhost:8080/"
        },
        "id": "HOS1wnK62Qkc",
        "outputId": "e0055b5d-eab5-432c-a94b-6c4620a2de35"
      },
      "execution_count": null,
      "outputs": [
        {
          "output_type": "stream",
          "name": "stdout",
          "text": [
            "A temperatura do fahrenheit é 32.22222222222222\n"
          ]
        }
      ]
    },
    {
      "cell_type": "markdown",
      "source": [
        "##Exercício 4 – Cálculo do IMC\n",
        "\n",
        "Crie um programa que calcule o Índice de Massa Corporal (IMC) de uma pessoa.\n",
        "\n",
        " Fórmula: IMC = peso / altura²"
      ],
      "metadata": {
        "id": "LGWXnbs00oGw"
      }
    },
    {
      "cell_type": "code",
      "source": [
        "peso = float(input(\"Digite o peso\"))\n",
        "altura = float(input(\"Digite a altura\"))"
      ],
      "metadata": {
        "colab": {
          "base_uri": "https://localhost:8080/"
        },
        "id": "LjRd3p5c0s5S",
        "outputId": "ccc557e6-c6ed-4bd0-e70b-f79de889400d"
      },
      "execution_count": null,
      "outputs": [
        {
          "name": "stdout",
          "output_type": "stream",
          "text": [
            "Digite o peso55\n",
            "Digite a altura1.60\n"
          ]
        }
      ]
    },
    {
      "cell_type": "code",
      "source": [
        "IMC = peso/altura**2"
      ],
      "metadata": {
        "id": "XZFWVF1E2xDK"
      },
      "execution_count": null,
      "outputs": []
    },
    {
      "cell_type": "code",
      "source": [
        "print(f\"O peso e altura é{IMC}\")"
      ],
      "metadata": {
        "colab": {
          "base_uri": "https://localhost:8080/"
        },
        "id": "lQHh2OFr3bdB",
        "outputId": "a3153c02-d0ab-4ed0-8554-b2ce88990deb"
      },
      "execution_count": null,
      "outputs": [
        {
          "output_type": "stream",
          "name": "stdout",
          "text": [
            "O peso e altura é21.484374999999996\n"
          ]
        }
      ]
    },
    {
      "cell_type": "markdown",
      "source": [
        "Exercícios 14/03"
      ],
      "metadata": {
        "id": "uv0LhYY83sNi"
      }
    },
    {
      "cell_type": "markdown",
      "source": [
        "1) O custo ao consumidor de um carro novo é a soma do custo de fábrica com a percentagem do distribuidor e dos impostos (aplicados, primeiro os impostos sobre o custo de fábrica, e depois a percentagem do distribuidor sobre o resultado). Supondo que a percentagem do distribuidor seja de 28% e os impostos 45%. Escrever um algoritmo que leia o custo de fábrica de um carro e informe o custo ao consumidor do mesmo.\n",
        "\n",
        "Exemplo: Custo de fábrica do carro: R$25.000,00\n",
        "\n",
        "Impostos: 45% = R$11.250 (Total R$36.250,00)\n",
        "\n",
        "Distribuição 28% = R$10.150 (Total R$ 46.400,00)\n",
        "\n",
        "Para o consumidor: R$ 46.400,00"
      ],
      "metadata": {
        "id": "LCED3k7M3hOx"
      }
    },
    {
      "cell_type": "code",
      "source": [
        "#entrada\n",
        "valorcarro = 25000"
      ],
      "metadata": {
        "id": "GgjveVEj3xzT"
      },
      "execution_count": null,
      "outputs": []
    },
    {
      "cell_type": "code",
      "source": [
        "#processamneto\n",
        "impostotrib = (valorcarro*45/100) + valorcarro\n",
        "valordist = (impostotrib*28/100) + impostotrib"
      ],
      "metadata": {
        "id": "UeTr12nB-W0Z"
      },
      "execution_count": null,
      "outputs": []
    },
    {
      "cell_type": "code",
      "source": [
        "#saida\n",
        "print(f\"O valor final do carro é{valordist:.2f}\")"
      ],
      "metadata": {
        "id": "JwZoHdln_sRk",
        "outputId": "41a05d4d-fa85-4694-e9c5-4f3ed891ba5c",
        "colab": {
          "base_uri": "https://localhost:8080/"
        }
      },
      "execution_count": null,
      "outputs": [
        {
          "output_type": "stream",
          "name": "stdout",
          "text": [
            "O valor final do carro é 46400.00\n"
          ]
        }
      ]
    },
    {
      "cell_type": "markdown",
      "source": [
        "2)  Faça um algoritmo que faça conversão de minutos e horas em segundos. Solicite ao usuário a hora e os minutos separado.\n",
        "\n",
        "Por exemplo 4h23 minutos equivale a 4.38 para fazer cálculos matemáticos\n",
        "\n",
        "Para chegar a essa conclusão: 23/60 = 0,38 🡺 4+0,38 = 4,38\n",
        "\n",
        "Para o Teste de Mesa (prova real)\n",
        "\n",
        "3h40 = 3.67\n",
        "\n",
        "1h32 = 1.52"
      ],
      "metadata": {
        "id": "KW1Y9kZUACkw"
      }
    },
    {
      "cell_type": "code",
      "source": [
        "#entrada\n",
        "horas = float(input(f\"Insira o valor de horas\"))\n",
        "minutos = float(input(f\"Insira o valor em minutos\"))"
      ],
      "metadata": {
        "id": "9NFQ2zNTAG5Q",
        "outputId": "13182581-344d-4005-9362-8020e885992c",
        "colab": {
          "base_uri": "https://localhost:8080/"
        }
      },
      "execution_count": null,
      "outputs": [
        {
          "name": "stdout",
          "output_type": "stream",
          "text": [
            "Insira o valor de horas6\n",
            "Insira o valor em minutos40\n"
          ]
        }
      ]
    },
    {
      "cell_type": "code",
      "source": [
        "#processamento\n",
        "valorseg = (minutos/60) + horas"
      ],
      "metadata": {
        "id": "PQMDnVOOCHG4"
      },
      "execution_count": null,
      "outputs": []
    },
    {
      "cell_type": "code",
      "source": [
        "#saida\n",
        "print(f\"O resultado em decimal é: {conversão}\")"
      ],
      "metadata": {
        "id": "9U_7uxl-Df80",
        "outputId": "0eb9ddcc-4749-4964-fb8c-23f605b3017b",
        "colab": {
          "base_uri": "https://localhost:8080/"
        }
      },
      "execution_count": 4,
      "outputs": [
        {
          "output_type": "stream",
          "name": "stdout",
          "text": [
            "O resultado em decimal é: 20.266666666666666\n"
          ]
        }
      ]
    },
    {
      "cell_type": "markdown",
      "source": [
        "3)  Continuando do exercício anterior, um funcionário trabalha em determinada empresa e quer saber quanto irá ganhar de hora extra. Você deverá fazer um algoritmo que solicite quantas horas e quantos minutos ele trabalhou, solicite horas e minutos de forma separada. Depois pergunte quanto ele ganha por hora e informe quanto ele irá ganhar. Sabendo que nessa empresa o funcionário ganha 70% a mais pelas horas trabalhadas.\n",
        "\n",
        "Ex. Trabalhei neste mês 15h45min == 15.75\n",
        "\n",
        "Ganho R$ 25 reais por hora\n",
        "\n",
        "Resultado tem que ser = R$ 669,37 com os 70% amais\n",
        "\n",
        "Outro teste de mesa: Se trabalhei 20h, devo ganhar R$ 850,00"
      ],
      "metadata": {
        "id": "7e_fkn2QD1Y_"
      }
    },
    {
      "cell_type": "code",
      "source": [
        "horastb = float(input(f\"Digite o valor de horas trabalhadas\"))\n",
        "mintr = float(input(f\"Digite o valor de minutos trabalhados\"))\n",
        "valorhr = float(input(f\"Digite o valor que voce ganha por hora\"))"
      ],
      "metadata": {
        "collapsed": true,
        "id": "ZvXpjobyD6kv",
        "outputId": "ef1ab9a8-854f-4238-8214-702e8151d059",
        "colab": {
          "base_uri": "https://localhost:8080/"
        }
      },
      "execution_count": null,
      "outputs": [
        {
          "name": "stdout",
          "output_type": "stream",
          "text": [
            "Digite o valor de horas trabalhadas 15\n",
            "Digite o valor de minutos trabalhados54\n",
            "Digite o valor que voce ganha por hora25\n"
          ]
        }
      ]
    },
    {
      "cell_type": "markdown",
      "source": [],
      "metadata": {
        "id": "94D5K7fLv5L-"
      }
    },
    {
      "cell_type": "markdown",
      "source": [],
      "metadata": {
        "id": "B07iSR-Ex9uP"
      }
    },
    {
      "cell_type": "code",
      "source": [
        "#processamento\n",
        "convertido = horastb + (mintr/60)\n",
        "salario = (convertido + valorhr)\n",
        "salario2 = (salario*70/100) + salario"
      ],
      "metadata": {
        "id": "zJsCQEUyImqW"
      },
      "execution_count": null,
      "outputs": []
    },
    {
      "cell_type": "code",
      "source": [
        "#saida\n",
        "print(f\"O valor ganho seráde {salario2:.2f}\")"
      ],
      "metadata": {
        "id": "hVwNyLaNLYQV",
        "outputId": "7faf5268-2bcc-4ad2-a491-beb5ac448214",
        "colab": {
          "base_uri": "https://localhost:8080/"
        }
      },
      "execution_count": null,
      "outputs": [
        {
          "output_type": "stream",
          "name": "stdout",
          "text": [
            "O valor ganho seráde 69.53\n"
          ]
        }
      ]
    },
    {
      "cell_type": "markdown",
      "source": [
        "Correção das atividades"
      ],
      "metadata": {
        "id": "DBlVrB6eyEoA"
      }
    },
    {
      "cell_type": "markdown",
      "source": [],
      "metadata": {
        "id": "Oz0iAEeyzezy"
      }
    },
    {
      "cell_type": "markdown",
      "source": [
        "1) O custo ao consumidor de um carro novo é a soma do custo de fábrica com a percentagem do distribuidor e dos impostos (aplicados, primeiro os impostos sobre o custo de fábrica, e depois a percentagem do distribuidor sobre o resultado). Supondo que a percentagem do distribuidor seja de 28% e os impostos 45%. Escrever um algoritmo que leia o custo de fábrica de um carro e informe o custo ao consumidor do mesmo.\n",
        "\n",
        "Exemplo: Custo de fábrica do carro: R$25.000,00\n",
        "\n",
        "Impostos: 45% = R$11.250 (Total R$36.250,00)\n",
        "\n",
        "Distribuição 28% = R$10.150 (Total R$ 46.400,00)\n",
        "\n",
        "Para o consumidor: R$ 46.400,00"
      ],
      "metadata": {
        "id": "DWHDrT2dzi44"
      }
    },
    {
      "cell_type": "code",
      "source": [
        "#entrada\n",
        "valorcarro = 25000\n",
        "#processamento\n",
        "impostotrib = (valorcarro*45/100) + valorcarro\n",
        "valordist = (impostotrib*28/100) + impostotrib\n",
        "#saida\n",
        "print(f\"O valor final do carro é{valordist:.2f}\")"
      ],
      "metadata": {
        "id": "K8p_vy9O2lLM",
        "outputId": "a25bae01-f671-4357-e804-8b858422e224",
        "colab": {
          "base_uri": "https://localhost:8080/"
        }
      },
      "execution_count": 3,
      "outputs": [
        {
          "output_type": "stream",
          "name": "stdout",
          "text": [
            "O valor final do carro é46400.00\n"
          ]
        }
      ]
    },
    {
      "cell_type": "markdown",
      "source": [
        "![image.png](data:image/png;base64,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)"
      ],
      "metadata": {
        "id": "NADBElQ9-oLi"
      }
    },
    {
      "cell_type": "markdown",
      "source": [],
      "metadata": {
        "id": "xsvLqTiF43Tt"
      }
    },
    {
      "cell_type": "markdown",
      "source": [
        "2) Faça um algoritmo que faça conversão de minutos e horas em segundos. Solicite ao usuário a hora e os minutos separado.\n",
        "\n",
        "Por exemplo 4h23 minutos equivale a 4.38 para fazer cálculos matemáticos\n",
        "\n",
        "Para chegar a essa conclusão: 23/60 = 0,38 🡺 4+0,38 = 4,38\n",
        "\n",
        "Para o Teste de Mesa (prova real)\n",
        "\n",
        "3h40 = 3.67\n",
        "\n",
        "1h32 = 1.52"
      ],
      "metadata": {
        "id": "yLmLTt9W3JCX"
      }
    },
    {
      "cell_type": "code",
      "source": [
        "#entrada\n",
        "horas = int(input(\"Digite o valor de horas\"))\n",
        "minutos = int(input(\"Digite o valor de minutos\"))\n",
        "#processamento\n",
        "conversão = (minutos/60) + horas\n",
        "#saida\n",
        "print(f\"O resultado em decimal é: {conversão}\")"
      ],
      "metadata": {
        "id": "vZtAKy5S5ZdY",
        "outputId": "ea3a2ed4-6212-411c-ef00-85ae961dde04",
        "colab": {
          "base_uri": "https://localhost:8080/"
        }
      },
      "execution_count": 2,
      "outputs": [
        {
          "output_type": "stream",
          "name": "stdout",
          "text": [
            "Digite o valor de horas20\n",
            "Digite o valor de minutos16\n",
            "O resultado em decimal é: 20.266666666666666\n"
          ]
        }
      ]
    },
    {
      "cell_type": "markdown",
      "source": [
        "![image.png](data:image/png;base64,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)"
      ],
      "metadata": {
        "id": "JJqydv-CC-AN"
      }
    },
    {
      "cell_type": "markdown",
      "source": [],
      "metadata": {
        "id": "BoLqr2iS_weE"
      }
    },
    {
      "cell_type": "markdown",
      "source": [
        "3) Continuando do exercício anterior, um funcionário trabalha em determinada empresa e quer saber quanto irá ganhar de hora extra. Você deverá fazer um algoritmo que solicite quantas horas e quantos minutos ele trabalhou, solicite horas e minutos de forma separada. Depois pergunte quanto ele ganha por hora e informe quanto ele irá ganhar. Sabendo que nessa empresa o funcionário ganha 70% a mais pelas horas trabalhadas.\n",
        "\n",
        "Ex. Trabalhei neste mês 15h45min == 15.75\n",
        "\n",
        "Ganho R$ 25 reais por hora\n",
        "\n",
        "Resultado tem que ser = R$ 669,37 com os 70% amais\n",
        "\n",
        "Outro teste de mesa: Se trabalhei 20h, devo ganhar R$ 850,00"
      ],
      "metadata": {
        "id": "w1uCM8Sr5UyY"
      }
    },
    {
      "cell_type": "code",
      "source": [
        "#entrada\n",
        "hora = int(input(\"Digite o valor da hora\"))\n",
        "min = int(input(\"Digite o valor dos minutos trabalhados\"))\n",
        "valorhora= float(input(\"Digite quanto ganha por hora\"))\n",
        "#processamento\n",
        "convertido = hora + (min/60)\n",
        "salario = convertido*valorhora\n",
        "resultado = salario +(salario*70/100)\n",
        "#saida\n",
        "print(f\"O valor do seu salário com hora extra, feito em base em {convertido} horas é: {resultado}\")\n"
      ],
      "metadata": {
        "id": "L8hVdVUw5aYo",
        "outputId": "8d66166a-2a84-493e-b93a-18f4625b6262",
        "colab": {
          "base_uri": "https://localhost:8080/"
        }
      },
      "execution_count": 1,
      "outputs": [
        {
          "output_type": "stream",
          "name": "stdout",
          "text": [
            "Digite o valor da hora15\n",
            "Digite o valor dos minutos trabalhados45\n",
            "Digite quanto ganha por hora25\n",
            "O valor do seu salário com hora extra, feito em base em 15.75 horas é: 669.375\n"
          ]
        }
      ]
    },
    {
      "cell_type": "markdown",
      "source": [
        "![Captura de tela 2025-03-21 145505.png](data:image/png;base64,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)"
      ],
      "metadata": {
        "id": "18C1e28h_ry0"
      }
    },
    {
      "cell_type": "markdown",
      "source": [
        "4) Simulação de Investimento em CDB com Juros Compostos\n",
        "\n",
        "Uma pessoa deseja investir um valor em um CDB que rende uma taxa fixa de X% ao ano. Escreva um algoritmo que solicite o valor inicial do investimento, a taxa de juros anual (em %) e o período em anos. Depois, calcule o montante final considerando juros compostos.\n",
        "\n",
        " Fórmula dos juros compostos:\n",
        "\n",
        "M=C×(1+i)**t (O t é potência)\n",
        "\n",
        "onde:\n",
        "\n",
        "M = montante final (valor após os anos de investimento)\n",
        "\n",
        "C = capital inicial (valor investido)\n",
        "\n",
        "i = taxa de juros anual (em decimal, ou seja, 5% = 0.05)\n",
        "\n",
        "t = tempo em anos\n",
        "\n",
        " Exemplo:\n",
        "\n",
        "Valor investido: R$ 1.000,00\n",
        "\n",
        "Taxa de juros: 6% ao ano (0.06)\n",
        "\n",
        "Tempo: 5 anos\n",
        "\n"
      ],
      "metadata": {
        "id": "rhbemQkPEek5"
      }
    },
    {
      "cell_type": "markdown",
      "source": [],
      "metadata": {
        "id": "PCK0IKuxEvDz"
      }
    },
    {
      "cell_type": "code",
      "source": [],
      "metadata": {
        "id": "T46716x2EkM6"
      },
      "execution_count": null,
      "outputs": []
    },
    {
      "cell_type": "markdown",
      "source": [
        "5) Divisão de Conta em um Restaurante com Gorjeta\n",
        "\n",
        "Um grupo de amigos foi a um restaurante e deseja dividir a conta igualmente entre eles. Além disso, o restaurante cobra uma taxa de serviço de 10% sobre o valor total da conta mais uma gorjeta.\n",
        "\n",
        "Escreva um algoritmo que solicite o valor da conta e o número de pessoas no grupo. Depois, calcule o valor total com a taxa de serviço e quanto cada pessoa deve pagar.\n",
        "\n",
        " Fórmulas:\n",
        "\n",
        "Definição da Gorjeta: Solicitar valor Gorjeta\n",
        "\n",
        "Taxa de serviço: Aplicar 10% da taxa de serviço do restaurante, somar ao valor total e depois somar a gorjeta, já que o garçom foi muito solicito;\n",
        "\n",
        "Valor por pessoa: Dividor pelo numero de pessoas\n",
        "\n",
        " Exemplo:\n",
        "\n",
        "Valor da conta: R$ 200,00\n",
        "\n",
        "Número de pessoas: 4\n",
        "\n",
        "Taxa de serviço (10% de R$ 200,00): R$ 20,00\n",
        "\n",
        "Valor total a ser pago: R$ 220,00\n",
        "\n",
        "Valor por pessoa: R$ 55,00"
      ],
      "metadata": {
        "id": "CLGYpwNOEp9z"
      }
    },
    {
      "cell_type": "code",
      "source": [],
      "metadata": {
        "id": "GZFq93dWEuDL"
      },
      "execution_count": null,
      "outputs": []
    },
    {
      "cell_type": "markdown",
      "source": [],
      "metadata": {
        "id": "d6cv30NQEuRL"
      }
    }
  ]
}